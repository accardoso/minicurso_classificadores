{
 "cells": [
  {
   "cell_type": "markdown",
   "metadata": {},
   "source": [
    "# Minicurso Classificadores\n",
    "\n",
    "## Lição 0: Meu primeiro classificador - para sentir o gostinho...\n",
    "\n",
    "### Reconhecendo números de 0 a 9 escritos a mão"
   ]
  },
  {
   "cell_type": "markdown",
   "metadata": {},
   "source": [
    "#### Obtendo os dados"
   ]
  },
  {
   "cell_type": "code",
   "execution_count": 1,
   "metadata": {},
   "outputs": [],
   "source": [
    "from sklearn import datasets\n",
    "\n",
    "digits = datasets.load_digits()"
   ]
  },
  {
   "cell_type": "code",
   "execution_count": 2,
   "metadata": {},
   "outputs": [
    {
     "data": {
      "text/plain": [
       "array([[ 0.,  0.,  5., 13.,  9.,  1.,  0.,  0.,  0.,  0., 13., 15., 10.,\n",
       "        15.,  5.,  0.,  0.,  3., 15.,  2.,  0., 11.,  8.,  0.,  0.,  4.,\n",
       "        12.,  0.,  0.,  8.,  8.,  0.,  0.,  5.,  8.,  0.,  0.,  9.,  8.,\n",
       "         0.,  0.,  4., 11.,  0.,  1., 12.,  7.,  0.,  0.,  2., 14.,  5.,\n",
       "        10., 12.,  0.,  0.,  0.,  0.,  6., 13., 10.,  0.,  0.,  0.],\n",
       "       [ 0.,  0.,  0., 12., 13.,  5.,  0.,  0.,  0.,  0.,  0., 11., 16.,\n",
       "         9.,  0.,  0.,  0.,  0.,  3., 15., 16.,  6.,  0.,  0.,  0.,  7.,\n",
       "        15., 16., 16.,  2.,  0.,  0.,  0.,  0.,  1., 16., 16.,  3.,  0.,\n",
       "         0.,  0.,  0.,  1., 16., 16.,  6.,  0.,  0.,  0.,  0.,  1., 16.,\n",
       "        16.,  6.,  0.,  0.,  0.,  0.,  0., 11., 16., 10.,  0.,  0.],\n",
       "       [ 0.,  0.,  0.,  4., 15., 12.,  0.,  0.,  0.,  0.,  3., 16., 15.,\n",
       "        14.,  0.,  0.,  0.,  0.,  8., 13.,  8., 16.,  0.,  0.,  0.,  0.,\n",
       "         1.,  6., 15., 11.,  0.,  0.,  0.,  1.,  8., 13., 15.,  1.,  0.,\n",
       "         0.,  0.,  9., 16., 16.,  5.,  0.,  0.,  0.,  0.,  3., 13., 16.,\n",
       "        16., 11.,  5.,  0.,  0.,  0.,  0.,  3., 11., 16.,  9.,  0.]])"
      ]
     },
     "execution_count": 2,
     "metadata": {},
     "output_type": "execute_result"
    }
   ],
   "source": [
    "n_samples = len(digits.data)\n",
    "\n",
    "X = digits.data\n",
    "X[:3]"
   ]
  },
  {
   "cell_type": "code",
   "execution_count": 3,
   "metadata": {},
   "outputs": [
    {
     "data": {
      "text/plain": [
       "array([0, 1, 2, ..., 8, 9, 8])"
      ]
     },
     "execution_count": 3,
     "metadata": {},
     "output_type": "execute_result"
    }
   ],
   "source": [
    "y = digits.target\n",
    "y"
   ]
  },
  {
   "cell_type": "markdown",
   "metadata": {},
   "source": [
    "#### Treinando o Classificador"
   ]
  },
  {
   "cell_type": "code",
   "execution_count": 4,
   "metadata": {
    "scrolled": false
   },
   "outputs": [
    {
     "data": {
      "text/plain": [
       "SVC(C=1.0, cache_size=200, class_weight=None, coef0=0.0,\n",
       "  decision_function_shape='ovr', degree=3, gamma='auto', kernel='rbf',\n",
       "  max_iter=-1, probability=False, random_state=None, shrinking=True,\n",
       "  tol=0.001, verbose=False)"
      ]
     },
     "execution_count": 4,
     "metadata": {},
     "output_type": "execute_result"
    }
   ],
   "source": [
    "from sklearn.svm import SVC\n",
    "\n",
    "classifier = SVC(gamma='auto')\n",
    "classifier.fit(X, y)"
   ]
  },
  {
   "cell_type": "markdown",
   "metadata": {},
   "source": [
    "#### Prevendo"
   ]
  },
  {
   "cell_type": "code",
   "execution_count": 5,
   "metadata": {},
   "outputs": [
    {
     "data": {
      "text/plain": [
       "array([0, 1, 2, ..., 8, 9, 8])"
      ]
     },
     "execution_count": 5,
     "metadata": {},
     "output_type": "execute_result"
    }
   ],
   "source": [
    "predicted = classifier.predict(X)\n",
    "predicted"
   ]
  },
  {
   "cell_type": "markdown",
   "metadata": {},
   "source": [
    "#### Avaliando"
   ]
  },
  {
   "cell_type": "code",
   "execution_count": 6,
   "metadata": {},
   "outputs": [],
   "source": [
    "expected = y"
   ]
  },
  {
   "cell_type": "code",
   "execution_count": 7,
   "metadata": {},
   "outputs": [
    {
     "data": {
      "text/plain": [
       "1.0"
      ]
     },
     "execution_count": 7,
     "metadata": {},
     "output_type": "execute_result"
    }
   ],
   "source": [
    "from sklearn import metrics\n",
    "\n",
    "accuracy = metrics.accuracy_score(expected, predicted)\n",
    "accuracy"
   ]
  },
  {
   "cell_type": "markdown",
   "metadata": {},
   "source": [
    "\n",
    "\n",
    "# Parabéns!! Você criou seu primeiro código de aprendizado de máquina!!\n",
    "\n",
    "\n"
   ]
  },
  {
   "cell_type": "markdown",
   "metadata": {},
   "source": [
    "##### SVM - Support Vector Machine (ou SVC - Support Vector Classifier): A máquina de classificar!"
   ]
  },
  {
   "cell_type": "code",
   "execution_count": 8,
   "metadata": {},
   "outputs": [
    {
     "data": {
      "text/plain": [
       "1.0"
      ]
     },
     "execution_count": 8,
     "metadata": {},
     "output_type": "execute_result"
    }
   ],
   "source": [
    "from sklearn.svm import SVC\n",
    "\n",
    "predicted = SVC(gamma='auto').fit(X, y).predict(X)\n",
    "\n",
    "accuracy = metrics.accuracy_score(expected, predicted)\n",
    "accuracy"
   ]
  },
  {
   "cell_type": "markdown",
   "metadata": {},
   "source": [
    "#### Outros classificadores"
   ]
  },
  {
   "cell_type": "markdown",
   "metadata": {},
   "source": [
    "##### KNN - K Nearest Neighbors: Diga-me com quem andas, que direi quem és!"
   ]
  },
  {
   "cell_type": "code",
   "execution_count": 9,
   "metadata": {},
   "outputs": [
    {
     "data": {
      "text/plain": [
       "0.9905397885364496"
      ]
     },
     "execution_count": 9,
     "metadata": {},
     "output_type": "execute_result"
    }
   ],
   "source": [
    "from sklearn.neighbors import KNeighborsClassifier as KNN\n",
    "\n",
    "predicted = KNN().fit(X, y).predict(X)\n",
    "\n",
    "accuracy = metrics.accuracy_score(expected, predicted)\n",
    "accuracy"
   ]
  },
  {
   "cell_type": "markdown",
   "metadata": {},
   "source": [
    "##### Logistic Regression: A regressão que é usada para classificar de forma simples!"
   ]
  },
  {
   "cell_type": "code",
   "execution_count": 10,
   "metadata": {},
   "outputs": [
    {
     "data": {
      "text/plain": [
       "1.0"
      ]
     },
     "execution_count": 10,
     "metadata": {},
     "output_type": "execute_result"
    }
   ],
   "source": [
    "from sklearn.linear_model import LogisticRegression\n",
    "\n",
    "predicted = LogisticRegression(solver='lbfgs',\n",
    "                               multi_class='auto',\n",
    "                               max_iter=10000, #Default: max_iter=100 | First to converge: 10000 (random_state=0)\n",
    "                               random_state=0).fit(X, y).predict(X)\n",
    "\n",
    "accuracy = metrics.accuracy_score(expected, predicted)\n",
    "accuracy"
   ]
  },
  {
   "cell_type": "markdown",
   "metadata": {},
   "source": [
    "##### Naive Bayes: Qual a confiança do ingênuo? "
   ]
  },
  {
   "cell_type": "code",
   "execution_count": 11,
   "metadata": {},
   "outputs": [
    {
     "data": {
      "text/plain": [
       "0.8580968280467446"
      ]
     },
     "execution_count": 11,
     "metadata": {},
     "output_type": "execute_result"
    }
   ],
   "source": [
    "from sklearn.naive_bayes import GaussianNB, MultinomialNB\n",
    "\n",
    "predicted = GaussianNB().fit(X, y).predict(X)\n",
    "\n",
    "accuracy = metrics.accuracy_score(expected, predicted)\n",
    "accuracy"
   ]
  },
  {
   "cell_type": "code",
   "execution_count": 12,
   "metadata": {},
   "outputs": [
    {
     "data": {
      "text/plain": [
       "0.9053978853644964"
      ]
     },
     "execution_count": 12,
     "metadata": {},
     "output_type": "execute_result"
    }
   ],
   "source": [
    "predicted = MultinomialNB().fit(X, y).predict(X)\n",
    "\n",
    "accuracy = metrics.accuracy_score(expected, predicted)\n",
    "accuracy"
   ]
  },
  {
   "cell_type": "markdown",
   "metadata": {},
   "source": [
    "##### Decision Trees: Virando jardineiro, às vezes podar faz bem!"
   ]
  },
  {
   "cell_type": "code",
   "execution_count": 13,
   "metadata": {},
   "outputs": [
    {
     "data": {
      "text/plain": [
       "1.0"
      ]
     },
     "execution_count": 13,
     "metadata": {},
     "output_type": "execute_result"
    }
   ],
   "source": [
    "from sklearn.tree import DecisionTreeClassifier as DecisionTree\n",
    "\n",
    "clf = DecisionTree()\n",
    "predicted = clf.fit(X, y).predict(X)\n",
    "\n",
    "accuracy = metrics.accuracy_score(expected, predicted)\n",
    "accuracy"
   ]
  },
  {
   "cell_type": "markdown",
   "metadata": {},
   "source": [
    "As árvores de decisão são muito úteis por sua interpretabilidade. Para tanto, vamos exporta-la para um arquivo do GraphViz."
   ]
  },
  {
   "cell_type": "code",
   "execution_count": 14,
   "metadata": {},
   "outputs": [
    {
     "name": "stdout",
     "output_type": "stream",
     "text": [
      "digraph Tree {\n",
      "node [shape=box, style=\"filled, rounded\", color=\"black\", fontname=helvetica] ;\n",
      "edge [fontname=helvetica] ;\n",
      "0 [label=\"X[36] <= 0.5\\ngini = 0.9\\nsamples = 1797\\nvalue = [178, 182, 177, 183, 181, 182, 181, 179, 174, 180]\\nclass = 3\", fillcolor=\"#39e55e00\"] ;\n",
      "1 [label=\"X[28] <= 2.5\\ngini = 0.55\\nsamples = 275\\nvalue = [174, 0, 4, 1, 6, 25, 5, 0, 3, 57]\\nclass = 0\", fillcolor=\"#e5813989\"] ;\n",
      "0 -> 1 [labeldistance=2.5, labelangle=45, headlabel=\"True\"] ;\n",
      "2 [label=\"X[21] <= 0.5\\ngini = 0.17\\nsamples = 188\\nvalue = [171, 0, 2, 0, 6, 6, 3, 0, 0, 0]\\nclass = 0\", fillcolor=\"#e58139e7\"] ;\n",
      "1 -> 2 ;\n",
      "3 [label=\"X[60] <= 13.5\\ngini = 0.72\\nsamples = 16\\nvalue = [1, 0, 1, 0, 5, 6, 3, 0, 0, 0]\\nclass = 5\", fillcolor=\"#399de517\"] ;\n",
      "2 -> 3 ;\n",
      "4 [label=\"gini = 0.0\\nsamples = 6\\nvalue = [0, 0, 0, 0, 0, 6, 0, 0, 0, 0]\\nclass = 5\", fillcolor=\"#399de5ff\"] ;\n",
      "3 -> 4 ;\n",
      "5 [label=\"X[29] <= 1.0\\ngini = 0.64\\nsamples = 10\\nvalue = [1, 0, 1, 0, 5, 0, 3, 0, 0, 0]\\nclass = 4\", fillcolor=\"#39e5c549\"] ;\n",
      "3 -> 5 ;\n",
      "6 [label=\"X[43] <= 11.5\\ngini = 0.56\\nsamples = 5\\nvalue = [1, 0, 1, 0, 0, 0, 3, 0, 0, 0]\\nclass = 6\", fillcolor=\"#3c39e57f\"] ;\n",
      "5 -> 6 ;\n",
      "7 [label=\"X[37] <= 0.5\\ngini = 0.5\\nsamples = 2\\nvalue = [1, 0, 1, 0, 0, 0, 0, 0, 0, 0]\\nclass = 0\", fillcolor=\"#e5813900\"] ;\n",
      "6 -> 7 ;\n",
      "8 [label=\"gini = 0.0\\nsamples = 1\\nvalue = [0, 0, 1, 0, 0, 0, 0, 0, 0, 0]\\nclass = 2\", fillcolor=\"#7be539ff\"] ;\n",
      "7 -> 8 ;\n",
      "9 [label=\"gini = 0.0\\nsamples = 1\\nvalue = [1, 0, 0, 0, 0, 0, 0, 0, 0, 0]\\nclass = 0\", fillcolor=\"#e58139ff\"] ;\n",
      "7 -> 9 ;\n",
      "10 [label=\"gini = 0.0\\nsamples = 3\\nvalue = [0, 0, 0, 0, 0, 0, 3, 0, 0, 0]\\nclass = 6\", fillcolor=\"#3c39e5ff\"] ;\n",
      "6 -> 10 ;\n",
      "11 [label=\"gini = 0.0\\nsamples = 5\\nvalue = [0, 0, 0, 0, 5, 0, 0, 0, 0, 0]\\nclass = 4\", fillcolor=\"#39e5c5ff\"] ;\n",
      "5 -> 11 ;\n",
      "12 [label=\"X[55] <= 2.0\\ngini = 0.02\\nsamples = 172\\nvalue = [170, 0, 1, 0, 1, 0, 0, 0, 0, 0]\\nclass = 0\", fillcolor=\"#e58139fc\"] ;\n",
      "2 -> 12 ;\n",
      "13 [label=\"X[59] <= 4.5\\ngini = 0.01\\nsamples = 171\\nvalue = [170, 0, 0, 0, 1, 0, 0, 0, 0, 0]\\nclass = 0\", fillcolor=\"#e58139fd\"] ;\n",
      "12 -> 13 ;\n",
      "14 [label=\"gini = 0.0\\nsamples = 1\\nvalue = [0, 0, 0, 0, 1, 0, 0, 0, 0, 0]\\nclass = 4\", fillcolor=\"#39e5c5ff\"] ;\n",
      "13 -> 14 ;\n",
      "15 [label=\"gini = 0.0\\nsamples = 170\\nvalue = [170, 0, 0, 0, 0, 0, 0, 0, 0, 0]\\nclass = 0\", fillcolor=\"#e58139ff\"] ;\n",
      "13 -> 15 ;\n",
      "16 [label=\"gini = 0.0\\nsamples = 1\\nvalue = [0, 0, 1, 0, 0, 0, 0, 0, 0, 0]\\nclass = 2\", fillcolor=\"#7be539ff\"] ;\n",
      "12 -> 16 ;\n",
      "17 [label=\"X[21] <= 6.5\\ngini = 0.52\\nsamples = 87\\nvalue = [3, 0, 2, 1, 0, 19, 2, 0, 3, 57]\\nclass = 9\", fillcolor=\"#e539588e\"] ;\n",
      "1 -> 17 ;\n",
      "18 [label=\"X[51] <= 9.5\\ngini = 0.38\\nsamples = 22\\nvalue = [0, 0, 2, 0, 0, 17, 2, 0, 0, 1]\\nclass = 5\", fillcolor=\"#399de5bf\"] ;\n",
      "17 -> 18 ;\n",
      "19 [label=\"X[4] <= 8.0\\ngini = 0.1\\nsamples = 18\\nvalue = [0, 0, 0, 0, 0, 17, 0, 0, 0, 1]\\nclass = 5\", fillcolor=\"#399de5f0\"] ;\n",
      "18 -> 19 ;\n",
      "20 [label=\"gini = 0.0\\nsamples = 1\\nvalue = [0, 0, 0, 0, 0, 0, 0, 0, 0, 1]\\nclass = 9\", fillcolor=\"#e53958ff\"] ;\n",
      "19 -> 20 ;\n",
      "21 [label=\"gini = 0.0\\nsamples = 17\\nvalue = [0, 0, 0, 0, 0, 17, 0, 0, 0, 0]\\nclass = 5\", fillcolor=\"#399de5ff\"] ;\n",
      "19 -> 21 ;\n",
      "22 [label=\"X[35] <= 12.0\\ngini = 0.5\\nsamples = 4\\nvalue = [0, 0, 2, 0, 0, 0, 2, 0, 0, 0]\\nclass = 2\", fillcolor=\"#7be53900\"] ;\n",
      "18 -> 22 ;\n",
      "23 [label=\"gini = 0.0\\nsamples = 2\\nvalue = [0, 0, 0, 0, 0, 0, 2, 0, 0, 0]\\nclass = 6\", fillcolor=\"#3c39e5ff\"] ;\n",
      "22 -> 23 ;\n",
      "24 [label=\"gini = 0.0\\nsamples = 2\\nvalue = [0, 0, 2, 0, 0, 0, 0, 0, 0, 0]\\nclass = 2\", fillcolor=\"#7be539ff\"] ;\n",
      "22 -> 24 ;\n",
      "25 [label=\"X[34] <= 7.5\\ngini = 0.25\\nsamples = 65\\nvalue = [3, 0, 0, 1, 0, 2, 0, 0, 3, 56]\\nclass = 9\", fillcolor=\"#e53958da\"] ;\n",
      "17 -> 25 ;\n",
      "26 [label=\"X[18] <= 2.0\\ngini = 0.03\\nsamples = 57\\nvalue = [0, 0, 0, 1, 0, 0, 0, 0, 0, 56]\\nclass = 9\", fillcolor=\"#e53958fa\"] ;\n",
      "25 -> 26 ;\n",
      "27 [label=\"gini = 0.0\\nsamples = 1\\nvalue = [0, 0, 0, 1, 0, 0, 0, 0, 0, 0]\\nclass = 3\", fillcolor=\"#39e55eff\"] ;\n",
      "26 -> 27 ;\n",
      "28 [label=\"gini = 0.0\\nsamples = 56\\nvalue = [0, 0, 0, 0, 0, 0, 0, 0, 0, 56]\\nclass = 9\", fillcolor=\"#e53958ff\"] ;\n",
      "26 -> 28 ;\n",
      "29 [label=\"X[29] <= 4.0\\ngini = 0.66\\nsamples = 8\\nvalue = [3, 0, 0, 0, 0, 2, 0, 0, 3, 0]\\nclass = 0\", fillcolor=\"#e5813900\"] ;\n",
      "25 -> 29 ;\n",
      "30 [label=\"gini = 0.0\\nsamples = 3\\nvalue = [0, 0, 0, 0, 0, 0, 0, 0, 3, 0]\\nclass = 8\", fillcolor=\"#e539c0ff\"] ;\n",
      "29 -> 30 ;\n",
      "31 [label=\"X[53] <= 10.0\\ngini = 0.48\\nsamples = 5\\nvalue = [3, 0, 0, 0, 0, 2, 0, 0, 0, 0]\\nclass = 0\", fillcolor=\"#e5813955\"] ;\n",
      "29 -> 31 ;\n",
      "32 [label=\"gini = 0.0\\nsamples = 2\\nvalue = [0, 0, 0, 0, 0, 2, 0, 0, 0, 0]\\nclass = 5\", fillcolor=\"#399de5ff\"] ;\n",
      "31 -> 32 ;\n",
      "33 [label=\"gini = 0.0\\nsamples = 3\\nvalue = [3, 0, 0, 0, 0, 0, 0, 0, 0, 0]\\nclass = 0\", fillcolor=\"#e58139ff\"] ;\n",
      "31 -> 33 ;\n",
      "34 [label=\"X[21] <= 0.5\\ngini = 0.89\\nsamples = 1522\\nvalue = [4, 182, 173, 182, 175, 157, 176, 179, 171, 123]\\nclass = 1\", fillcolor=\"#e2e53900\"] ;\n",
      "0 -> 34 [labeldistance=2.5, labelangle=-45, headlabel=\"False\"] ;\n",
      "35 [label=\"X[42] <= 8.5\\ngini = 0.74\\nsamples = 464\\nvalue = [0, 43, 46, 15, 33, 145, 172, 6, 3, 1]\\nclass = 6\", fillcolor=\"#3c39e516\"] ;\n",
      "34 -> 35 ;\n",
      "36 [label=\"X[5] <= 1.5\\ngini = 0.62\\nsamples = 246\\nvalue = [0, 35, 35, 15, 7, 142, 3, 5, 3, 1]\\nclass = 5\", fillcolor=\"#399de581\"] ;\n",
      "35 -> 36 ;\n",
      "37 [label=\"X[19] <= 13.5\\ngini = 0.73\\nsamples = 101\\nvalue = [0, 35, 35, 14, 5, 2, 3, 4, 2, 1]\\nclass = 1\", fillcolor=\"#e2e53900\"] ;\n",
      "36 -> 37 ;\n",
      "38 [label=\"X[37] <= 4.0\\ngini = 0.65\\nsamples = 61\\nvalue = [0, 3, 33, 13, 2, 2, 1, 4, 2, 1]\\nclass = 2\", fillcolor=\"#7be5396a\"] ;\n",
      "37 -> 38 ;\n",
      "39 [label=\"X[58] <= 0.5\\ngini = 0.2\\nsamples = 37\\nvalue = [0, 3, 33, 0, 0, 0, 0, 0, 1, 0]\\nclass = 2\", fillcolor=\"#7be539e1\"] ;\n",
      "38 -> 39 ;\n",
      "40 [label=\"X[45] <= 7.5\\ngini = 0.38\\nsamples = 4\\nvalue = [0, 3, 0, 0, 0, 0, 0, 0, 1, 0]\\nclass = 1\", fillcolor=\"#e2e539aa\"] ;\n",
      "39 -> 40 ;\n",
      "41 [label=\"gini = 0.0\\nsamples = 3\\nvalue = [0, 3, 0, 0, 0, 0, 0, 0, 0, 0]\\nclass = 1\", fillcolor=\"#e2e539ff\"] ;\n",
      "40 -> 41 ;\n",
      "42 [label=\"gini = 0.0\\nsamples = 1\\nvalue = [0, 0, 0, 0, 0, 0, 0, 0, 1, 0]\\nclass = 8\", fillcolor=\"#e539c0ff\"] ;\n",
      "40 -> 42 ;\n",
      "43 [label=\"gini = 0.0\\nsamples = 33\\nvalue = [0, 0, 33, 0, 0, 0, 0, 0, 0, 0]\\nclass = 2\", fillcolor=\"#7be539ff\"] ;\n",
      "39 -> 43 ;\n",
      "44 [label=\"X[43] <= 5.5\\ngini = 0.66\\nsamples = 24\\nvalue = [0, 0, 0, 13, 2, 2, 1, 4, 1, 1]\\nclass = 3\", fillcolor=\"#39e55e73\"] ;\n",
      "38 -> 44 ;\n",
      "45 [label=\"X[26] <= 12.5\\ngini = 0.32\\nsamples = 16\\nvalue = [0, 0, 0, 13, 0, 2, 0, 0, 0, 1]\\nclass = 3\", fillcolor=\"#39e55ec8\"] ;\n",
      "44 -> 45 ;\n",
      "46 [label=\"gini = 0.0\\nsamples = 13\\nvalue = [0, 0, 0, 13, 0, 0, 0, 0, 0, 0]\\nclass = 3\", fillcolor=\"#39e55eff\"] ;\n",
      "45 -> 46 ;\n",
      "47 [label=\"X[62] <= 7.0\\ngini = 0.44\\nsamples = 3\\nvalue = [0, 0, 0, 0, 0, 2, 0, 0, 0, 1]\\nclass = 5\", fillcolor=\"#399de57f\"] ;\n",
      "45 -> 47 ;\n",
      "48 [label=\"gini = 0.0\\nsamples = 2\\nvalue = [0, 0, 0, 0, 0, 2, 0, 0, 0, 0]\\nclass = 5\", fillcolor=\"#399de5ff\"] ;\n",
      "47 -> 48 ;\n",
      "49 [label=\"gini = 0.0\\nsamples = 1\\nvalue = [0, 0, 0, 0, 0, 0, 0, 0, 0, 1]\\nclass = 9\", fillcolor=\"#e53958ff\"] ;\n",
      "47 -> 49 ;\n",
      "50 [label=\"X[18] <= 4.0\\ngini = 0.66\\nsamples = 8\\nvalue = [0, 0, 0, 0, 2, 0, 1, 4, 1, 0]\\nclass = 7\", fillcolor=\"#a339e555\"] ;\n",
      "44 -> 50 ;\n",
      "51 [label=\"gini = 0.0\\nsamples = 4\\nvalue = [0, 0, 0, 0, 0, 0, 0, 4, 0, 0]\\nclass = 7\", fillcolor=\"#a339e5ff\"] ;\n",
      "50 -> 51 ;\n",
      "52 [label=\"X[42] <= 2.5\\ngini = 0.62\\nsamples = 4\\nvalue = [0, 0, 0, 0, 2, 0, 1, 0, 1, 0]\\nclass = 4\", fillcolor=\"#39e5c555\"] ;\n",
      "50 -> 52 ;\n",
      "53 [label=\"gini = 0.0\\nsamples = 2\\nvalue = [0, 0, 0, 0, 2, 0, 0, 0, 0, 0]\\nclass = 4\", fillcolor=\"#39e5c5ff\"] ;\n",
      "52 -> 53 ;\n",
      "54 [label=\"X[2] <= 1.5\\ngini = 0.5\\nsamples = 2\\nvalue = [0, 0, 0, 0, 0, 0, 1, 0, 1, 0]\\nclass = 6\", fillcolor=\"#3c39e500\"] ;\n",
      "52 -> 54 ;\n",
      "55 [label=\"gini = 0.0\\nsamples = 1\\nvalue = [0, 0, 0, 0, 0, 0, 1, 0, 0, 0]\\nclass = 6\", fillcolor=\"#3c39e5ff\"] ;\n",
      "54 -> 55 ;\n",
      "56 [label=\"gini = 0.0\\nsamples = 1\\nvalue = [0, 0, 0, 0, 0, 0, 0, 0, 1, 0]\\nclass = 8\", fillcolor=\"#e539c0ff\"] ;\n",
      "54 -> 56 ;\n",
      "57 [label=\"X[46] <= 0.5\\ngini = 0.35\\nsamples = 40\\nvalue = [0, 32, 2, 1, 3, 0, 2, 0, 0, 0]\\nclass = 1\", fillcolor=\"#e2e539c8\"] ;\n",
      "37 -> 57 ;\n",
      "58 [label=\"X[27] <= 10.5\\ngini = 0.11\\nsamples = 34\\nvalue = [0, 32, 1, 0, 1, 0, 0, 0, 0, 0]\\nclass = 1\", fillcolor=\"#e2e539f0\"] ;\n",
      "57 -> 58 ;\n",
      "59 [label=\"X[37] <= 8.5\\ngini = 0.5\\nsamples = 2\\nvalue = [0, 0, 1, 0, 1, 0, 0, 0, 0, 0]\\nclass = 2\", fillcolor=\"#7be53900\"] ;\n",
      "58 -> 59 ;\n",
      "60 [label=\"gini = 0.0\\nsamples = 1\\nvalue = [0, 0, 1, 0, 0, 0, 0, 0, 0, 0]\\nclass = 2\", fillcolor=\"#7be539ff\"] ;\n",
      "59 -> 60 ;\n",
      "61 [label=\"gini = 0.0\\nsamples = 1\\nvalue = [0, 0, 0, 0, 1, 0, 0, 0, 0, 0]\\nclass = 4\", fillcolor=\"#39e5c5ff\"] ;\n",
      "59 -> 61 ;\n",
      "62 [label=\"gini = 0.0\\nsamples = 32\\nvalue = [0, 32, 0, 0, 0, 0, 0, 0, 0, 0]\\nclass = 1\", fillcolor=\"#e2e539ff\"] ;\n",
      "58 -> 62 ;\n",
      "63 [label=\"X[61] <= 7.5\\ngini = 0.72\\nsamples = 6\\nvalue = [0, 0, 1, 1, 2, 0, 2, 0, 0, 0]\\nclass = 4\", fillcolor=\"#39e5c500\"] ;\n",
      "57 -> 63 ;\n",
      "64 [label=\"gini = 0.0\\nsamples = 2\\nvalue = [0, 0, 0, 0, 2, 0, 0, 0, 0, 0]\\nclass = 4\", fillcolor=\"#39e5c5ff\"] ;\n",
      "63 -> 64 ;\n",
      "65 [label=\"X[18] <= 6.0\\ngini = 0.62\\nsamples = 4\\nvalue = [0, 0, 1, 1, 0, 0, 2, 0, 0, 0]\\nclass = 6\", fillcolor=\"#3c39e555\"] ;\n",
      "63 -> 65 ;\n",
      "66 [label=\"gini = 0.0\\nsamples = 2\\nvalue = [0, 0, 0, 0, 0, 0, 2, 0, 0, 0]\\nclass = 6\", fillcolor=\"#3c39e5ff\"] ;\n",
      "65 -> 66 ;\n",
      "67 [label=\"X[34] <= 2.5\\ngini = 0.5\\nsamples = 2\\nvalue = [0, 0, 1, 1, 0, 0, 0, 0, 0, 0]\\nclass = 2\", fillcolor=\"#7be53900\"] ;\n",
      "65 -> 67 ;\n",
      "68 [label=\"gini = 0.0\\nsamples = 1\\nvalue = [0, 0, 1, 0, 0, 0, 0, 0, 0, 0]\\nclass = 2\", fillcolor=\"#7be539ff\"] ;\n",
      "67 -> 68 ;\n",
      "69 [label=\"gini = 0.0\\nsamples = 1\\nvalue = [0, 0, 0, 1, 0, 0, 0, 0, 0, 0]\\nclass = 3\", fillcolor=\"#39e55eff\"] ;\n",
      "67 -> 69 ;\n",
      "70 [label=\"X[18] <= 4.5\\ngini = 0.07\\nsamples = 145\\nvalue = [0, 0, 0, 1, 2, 140, 0, 1, 1, 0]\\nclass = 5\", fillcolor=\"#399de5f6\"] ;\n",
      "36 -> 70 ;\n",
      "71 [label=\"X[7] <= 6.0\\ngini = 0.67\\nsamples = 3\\nvalue = [0, 0, 0, 1, 1, 0, 0, 1, 0, 0]\\nclass = 3\", fillcolor=\"#39e55e00\"] ;\n",
      "70 -> 71 ;\n",
      "72 [label=\"X[5] <= 4.0\\ngini = 0.5\\nsamples = 2\\nvalue = [0, 0, 0, 1, 1, 0, 0, 0, 0, 0]\\nclass = 3\", fillcolor=\"#39e55e00\"] ;\n",
      "71 -> 72 ;\n",
      "73 [label=\"gini = 0.0\\nsamples = 1\\nvalue = [0, 0, 0, 0, 1, 0, 0, 0, 0, 0]\\nclass = 4\", fillcolor=\"#39e5c5ff\"] ;\n",
      "72 -> 73 ;\n",
      "74 [label=\"gini = 0.0\\nsamples = 1\\nvalue = [0, 0, 0, 1, 0, 0, 0, 0, 0, 0]\\nclass = 3\", fillcolor=\"#39e55eff\"] ;\n",
      "72 -> 74 ;\n",
      "75 [label=\"gini = 0.0\\nsamples = 1\\nvalue = [0, 0, 0, 0, 0, 0, 0, 1, 0, 0]\\nclass = 7\", fillcolor=\"#a339e5ff\"] ;\n",
      "71 -> 75 ;\n",
      "76 [label=\"X[9] <= 15.0\\ngini = 0.03\\nsamples = 142\\nvalue = [0, 0, 0, 0, 1, 140, 0, 0, 1, 0]\\nclass = 5\", fillcolor=\"#399de5fb\"] ;\n",
      "70 -> 76 ;\n",
      "77 [label=\"X[24] <= 0.5\\ngini = 0.01\\nsamples = 141\\nvalue = [0, 0, 0, 0, 1, 140, 0, 0, 0, 0]\\nclass = 5\", fillcolor=\"#399de5fd\"] ;\n",
      "76 -> 77 ;\n",
      "78 [label=\"gini = 0.0\\nsamples = 140\\nvalue = [0, 0, 0, 0, 0, 140, 0, 0, 0, 0]\\nclass = 5\", fillcolor=\"#399de5ff\"] ;\n",
      "77 -> 78 ;\n",
      "79 [label=\"gini = 0.0\\nsamples = 1\\nvalue = [0, 0, 0, 0, 1, 0, 0, 0, 0, 0]\\nclass = 4\", fillcolor=\"#39e5c5ff\"] ;\n",
      "77 -> 79 ;\n",
      "80 [label=\"gini = 0.0\\nsamples = 1\\nvalue = [0, 0, 0, 0, 0, 0, 0, 0, 1, 0]\\nclass = 8\", fillcolor=\"#e539c0ff\"] ;\n",
      "76 -> 80 ;\n",
      "81 [label=\"X[54] <= 1.5\\ngini = 0.38\\nsamples = 218\\nvalue = [0, 8, 11, 0, 26, 3, 169, 1, 0, 0]\\nclass = 6\", fillcolor=\"#3c39e5be\"] ;\n",
      "35 -> 81 ;\n",
      "82 [label=\"X[10] <= 5.5\\ngini = 0.64\\nsamples = 47\\nvalue = [0, 8, 2, 0, 26, 3, 7, 1, 0, 0]\\nclass = 4\", fillcolor=\"#39e5c576\"] ;\n",
      "81 -> 82 ;\n",
      "83 [label=\"X[42] <= 11.5\\ngini = 0.14\\nsamples = 26\\nvalue = [0, 1, 0, 0, 24, 0, 1, 0, 0, 0]\\nclass = 4\", fillcolor=\"#39e5c5eb\"] ;\n",
      "82 -> 83 ;\n",
      "84 [label=\"X[2] <= 0.5\\ngini = 0.5\\nsamples = 2\\nvalue = [0, 1, 0, 0, 0, 0, 1, 0, 0, 0]\\nclass = 1\", fillcolor=\"#e2e53900\"] ;\n",
      "83 -> 84 ;\n",
      "85 [label=\"gini = 0.0\\nsamples = 1\\nvalue = [0, 0, 0, 0, 0, 0, 1, 0, 0, 0]\\nclass = 6\", fillcolor=\"#3c39e5ff\"] ;\n",
      "84 -> 85 ;\n",
      "86 [label=\"gini = 0.0\\nsamples = 1\\nvalue = [0, 1, 0, 0, 0, 0, 0, 0, 0, 0]\\nclass = 1\", fillcolor=\"#e2e539ff\"] ;\n",
      "84 -> 86 ;\n",
      "87 [label=\"gini = 0.0\\nsamples = 24\\nvalue = [0, 0, 0, 0, 24, 0, 0, 0, 0, 0]\\nclass = 4\", fillcolor=\"#39e5c5ff\"] ;\n",
      "83 -> 87 ;\n",
      "88 [label=\"X[45] <= 1.5\\ngini = 0.77\\nsamples = 21\\nvalue = [0, 7, 2, 0, 2, 3, 6, 1, 0, 0]\\nclass = 1\", fillcolor=\"#e2e53911\"] ;\n",
      "82 -> 88 ;\n",
      "89 [label=\"X[61] <= 13.5\\ngini = 0.35\\nsamples = 9\\nvalue = [0, 7, 2, 0, 0, 0, 0, 0, 0, 0]\\nclass = 1\", fillcolor=\"#e2e539b6\"] ;\n",
      "88 -> 89 ;\n",
      "90 [label=\"gini = 0.0\\nsamples = 7\\nvalue = [0, 7, 0, 0, 0, 0, 0, 0, 0, 0]\\nclass = 1\", fillcolor=\"#e2e539ff\"] ;\n",
      "89 -> 90 ;\n",
      "91 [label=\"gini = 0.0\\nsamples = 2\\nvalue = [0, 0, 2, 0, 0, 0, 0, 0, 0, 0]\\nclass = 2\", fillcolor=\"#7be539ff\"] ;\n",
      "89 -> 91 ;\n",
      "92 [label=\"X[50] <= 6.0\\ngini = 0.65\\nsamples = 12\\nvalue = [0, 0, 0, 0, 2, 3, 6, 1, 0, 0]\\nclass = 6\", fillcolor=\"#3c39e555\"] ;\n",
      "88 -> 92 ;\n",
      "93 [label=\"X[19] <= 9.5\\ngini = 0.48\\nsamples = 5\\nvalue = [0, 0, 0, 0, 2, 3, 0, 0, 0, 0]\\nclass = 5\", fillcolor=\"#399de555\"] ;\n",
      "92 -> 93 ;\n",
      "94 [label=\"gini = 0.0\\nsamples = 3\\nvalue = [0, 0, 0, 0, 0, 3, 0, 0, 0, 0]\\nclass = 5\", fillcolor=\"#399de5ff\"] ;\n",
      "93 -> 94 ;\n",
      "95 [label=\"gini = 0.0\\nsamples = 2\\nvalue = [0, 0, 0, 0, 2, 0, 0, 0, 0, 0]\\nclass = 4\", fillcolor=\"#39e5c5ff\"] ;\n",
      "93 -> 95 ;\n",
      "96 [label=\"X[11] <= 13.5\\ngini = 0.24\\nsamples = 7\\nvalue = [0, 0, 0, 0, 0, 0, 6, 1, 0, 0]\\nclass = 6\", fillcolor=\"#3c39e5d4\"] ;\n",
      "92 -> 96 ;\n",
      "97 [label=\"gini = 0.0\\nsamples = 1\\nvalue = [0, 0, 0, 0, 0, 0, 0, 1, 0, 0]\\nclass = 7\", fillcolor=\"#a339e5ff\"] ;\n",
      "96 -> 97 ;\n",
      "98 [label=\"gini = 0.0\\nsamples = 6\\nvalue = [0, 0, 0, 0, 0, 0, 6, 0, 0, 0]\\nclass = 6\", fillcolor=\"#3c39e5ff\"] ;\n",
      "96 -> 98 ;\n",
      "99 [label=\"X[58] <= 9.0\\ngini = 0.1\\nsamples = 171\\nvalue = [0, 0, 9, 0, 0, 0, 162, 0, 0, 0]\\nclass = 6\", fillcolor=\"#3c39e5f1\"] ;\n",
      "81 -> 99 ;\n",
      "100 [label=\"gini = 0.0\\nsamples = 162\\nvalue = [0, 0, 0, 0, 0, 0, 162, 0, 0, 0]\\nclass = 6\", fillcolor=\"#3c39e5ff\"] ;\n",
      "99 -> 100 ;\n",
      "101 [label=\"gini = 0.0\\nsamples = 9\\nvalue = [0, 0, 9, 0, 0, 0, 0, 0, 0, 0]\\nclass = 2\", fillcolor=\"#7be539ff\"] ;\n",
      "99 -> 101 ;\n",
      "102 [label=\"X[60] <= 7.5\\ngini = 0.86\\nsamples = 1058\\nvalue = [4, 139, 127, 167, 142, 12, 4, 173, 168, 122]\\nclass = 7\", fillcolor=\"#a339e501\"] ;\n",
      "34 -> 102 ;\n",
      "103 [label=\"X[5] <= 0.5\\ngini = 0.55\\nsamples = 247\\nvalue = [0, 11, 6, 10, 28, 4, 0, 161, 11, 16]\\nclass = 7\", fillcolor=\"#a339e59b\"] ;\n",
      "102 -> 103 ;\n",
      "104 [label=\"X[12] <= 7.5\\ngini = 0.63\\nsamples = 45\\nvalue = [0, 2, 5, 0, 26, 2, 0, 6, 3, 1]\\nclass = 4\", fillcolor=\"#39e5c583\"] ;\n",
      "103 -> 104 ;\n",
      "105 [label=\"gini = 0.0\\nsamples = 26\\nvalue = [0, 0, 0, 0, 26, 0, 0, 0, 0, 0]\\nclass = 4\", fillcolor=\"#39e5c5ff\"] ;\n",
      "104 -> 105 ;\n",
      "106 [label=\"X[53] <= 10.5\\ngini = 0.78\\nsamples = 19\\nvalue = [0, 2, 5, 0, 0, 2, 0, 6, 3, 1]\\nclass = 7\", fillcolor=\"#a339e512\"] ;\n",
      "104 -> 106 ;\n",
      "107 [label=\"X[60] <= 1.5\\ngini = 0.7\\nsamples = 13\\nvalue = [0, 1, 0, 0, 0, 2, 0, 6, 3, 1]\\nclass = 7\", fillcolor=\"#a339e54d\"] ;\n",
      "106 -> 107 ;\n",
      "108 [label=\"gini = 0.0\\nsamples = 6\\nvalue = [0, 0, 0, 0, 0, 0, 0, 6, 0, 0]\\nclass = 7\", fillcolor=\"#a339e5ff\"] ;\n",
      "107 -> 108 ;\n",
      "109 [label=\"X[50] <= 9.0\\ngini = 0.69\\nsamples = 7\\nvalue = [0, 1, 0, 0, 0, 2, 0, 0, 3, 1]\\nclass = 8\", fillcolor=\"#e539c033\"] ;\n",
      "107 -> 109 ;\n",
      "110 [label=\"X[33] <= 0.5\\ngini = 0.62\\nsamples = 4\\nvalue = [0, 1, 0, 0, 0, 2, 0, 0, 0, 1]\\nclass = 5\", fillcolor=\"#399de555\"] ;\n",
      "109 -> 110 ;\n",
      "111 [label=\"gini = 0.0\\nsamples = 2\\nvalue = [0, 0, 0, 0, 0, 2, 0, 0, 0, 0]\\nclass = 5\", fillcolor=\"#399de5ff\"] ;\n",
      "110 -> 111 ;\n",
      "112 [label=\"X[20] <= 10.0\\ngini = 0.5\\nsamples = 2\\nvalue = [0, 1, 0, 0, 0, 0, 0, 0, 0, 1]\\nclass = 1\", fillcolor=\"#e2e53900\"] ;\n",
      "110 -> 112 ;\n",
      "113 [label=\"gini = 0.0\\nsamples = 1\\nvalue = [0, 0, 0, 0, 0, 0, 0, 0, 0, 1]\\nclass = 9\", fillcolor=\"#e53958ff\"] ;\n",
      "112 -> 113 ;\n",
      "114 [label=\"gini = 0.0\\nsamples = 1\\nvalue = [0, 1, 0, 0, 0, 0, 0, 0, 0, 0]\\nclass = 1\", fillcolor=\"#e2e539ff\"] ;\n",
      "112 -> 114 ;\n",
      "115 [label=\"gini = 0.0\\nsamples = 3\\nvalue = [0, 0, 0, 0, 0, 0, 0, 0, 3, 0]\\nclass = 8\", fillcolor=\"#e539c0ff\"] ;\n",
      "109 -> 115 ;\n",
      "116 [label=\"X[27] <= 11.5\\ngini = 0.28\\nsamples = 6\\nvalue = [0, 1, 5, 0, 0, 0, 0, 0, 0, 0]\\nclass = 2\", fillcolor=\"#7be539cc\"] ;\n",
      "106 -> 116 ;\n",
      "117 [label=\"gini = 0.0\\nsamples = 5\\nvalue = [0, 0, 5, 0, 0, 0, 0, 0, 0, 0]\\nclass = 2\", fillcolor=\"#7be539ff\"] ;\n",
      "116 -> 117 ;\n",
      "118 [label=\"gini = 0.0\\nsamples = 1\\nvalue = [0, 1, 0, 0, 0, 0, 0, 0, 0, 0]\\nclass = 1\", fillcolor=\"#e2e539ff\"] ;\n",
      "116 -> 118 ;\n",
      "119 [label=\"X[53] <= 3.5\\ngini = 0.4\\nsamples = 202\\nvalue = [0, 9, 1, 10, 2, 2, 0, 155, 8, 15]\\nclass = 7\", fillcolor=\"#a339e5bf\"] ;\n",
      "103 -> 119 ;\n",
      "120 [label=\"X[37] <= 0.5\\ngini = 0.27\\nsamples = 182\\nvalue = [0, 3, 0, 4, 2, 1, 0, 155, 6, 11]\\nclass = 7\", fillcolor=\"#a339e5d7\"] ;\n",
      "119 -> 120 ;\n",
      "121 [label=\"X[30] <= 3.0\\ngini = 0.79\\nsamples = 18\\nvalue = [0, 3, 0, 3, 0, 0, 0, 4, 5, 3]\\nclass = 8\", fillcolor=\"#e539c012\"] ;\n",
      "120 -> 121 ;\n",
      "122 [label=\"X[20] <= 11.5\\ngini = 0.73\\nsamples = 14\\nvalue = [0, 3, 0, 3, 0, 0, 0, 0, 5, 3]\\nclass = 8\", fillcolor=\"#e539c02e\"] ;\n",
      "121 -> 122 ;\n",
      "123 [label=\"X[18] <= 14.5\\ngini = 0.28\\nsamples = 6\\nvalue = [0, 0, 0, 0, 0, 0, 0, 0, 5, 1]\\nclass = 8\", fillcolor=\"#e539c0cc\"] ;\n",
      "122 -> 123 ;\n",
      "124 [label=\"gini = 0.0\\nsamples = 5\\nvalue = [0, 0, 0, 0, 0, 0, 0, 0, 5, 0]\\nclass = 8\", fillcolor=\"#e539c0ff\"] ;\n",
      "123 -> 124 ;\n",
      "125 [label=\"gini = 0.0\\nsamples = 1\\nvalue = [0, 0, 0, 0, 0, 0, 0, 0, 0, 1]\\nclass = 9\", fillcolor=\"#e53958ff\"] ;\n",
      "123 -> 125 ;\n",
      "126 [label=\"X[34] <= 9.5\\ngini = 0.66\\nsamples = 8\\nvalue = [0, 3, 0, 3, 0, 0, 0, 0, 0, 2]\\nclass = 1\", fillcolor=\"#e2e53900\"] ;\n",
      "122 -> 126 ;\n",
      "127 [label=\"X[52] <= 8.5\\ngini = 0.48\\nsamples = 5\\nvalue = [0, 0, 0, 3, 0, 0, 0, 0, 0, 2]\\nclass = 3\", fillcolor=\"#39e55e55\"] ;\n",
      "126 -> 127 ;\n",
      "128 [label=\"gini = 0.0\\nsamples = 2\\nvalue = [0, 0, 0, 0, 0, 0, 0, 0, 0, 2]\\nclass = 9\", fillcolor=\"#e53958ff\"] ;\n",
      "127 -> 128 ;\n",
      "129 [label=\"gini = 0.0\\nsamples = 3\\nvalue = [0, 0, 0, 3, 0, 0, 0, 0, 0, 0]\\nclass = 3\", fillcolor=\"#39e55eff\"] ;\n",
      "127 -> 129 ;\n",
      "130 [label=\"gini = 0.0\\nsamples = 3\\nvalue = [0, 3, 0, 0, 0, 0, 0, 0, 0, 0]\\nclass = 1\", fillcolor=\"#e2e539ff\"] ;\n",
      "126 -> 130 ;\n",
      "131 [label=\"gini = 0.0\\nsamples = 4\\nvalue = [0, 0, 0, 0, 0, 0, 0, 4, 0, 0]\\nclass = 7\", fillcolor=\"#a339e5ff\"] ;\n",
      "121 -> 131 ;\n",
      "132 [label=\"X[26] <= 12.5\\ngini = 0.15\\nsamples = 164\\nvalue = [0, 0, 0, 1, 2, 1, 0, 151, 1, 8]\\nclass = 7\", fillcolor=\"#a339e5ea\"] ;\n",
      "120 -> 132 ;\n",
      "133 [label=\"X[19] <= 12.5\\ngini = 0.03\\nsamples = 142\\nvalue = [0, 0, 0, 1, 0, 0, 0, 140, 1, 0]\\nclass = 7\", fillcolor=\"#a339e5fb\"] ;\n",
      "132 -> 133 ;\n",
      "134 [label=\"X[51] <= 2.5\\ngini = 0.01\\nsamples = 141\\nvalue = [0, 0, 0, 1, 0, 0, 0, 140, 0, 0]\\nclass = 7\", fillcolor=\"#a339e5fd\"] ;\n",
      "133 -> 134 ;\n",
      "135 [label=\"gini = 0.0\\nsamples = 1\\nvalue = [0, 0, 0, 1, 0, 0, 0, 0, 0, 0]\\nclass = 3\", fillcolor=\"#39e55eff\"] ;\n",
      "134 -> 135 ;\n",
      "136 [label=\"gini = 0.0\\nsamples = 140\\nvalue = [0, 0, 0, 0, 0, 0, 0, 140, 0, 0]\\nclass = 7\", fillcolor=\"#a339e5ff\"] ;\n",
      "134 -> 136 ;\n",
      "137 [label=\"gini = 0.0\\nsamples = 1\\nvalue = [0, 0, 0, 0, 0, 0, 0, 0, 1, 0]\\nclass = 8\", fillcolor=\"#e539c0ff\"] ;\n",
      "133 -> 137 ;\n",
      "138 [label=\"X[27] <= 5.5\\ngini = 0.61\\nsamples = 22\\nvalue = [0, 0, 0, 0, 2, 1, 0, 11, 0, 8]\\nclass = 7\", fillcolor=\"#a339e537\"] ;\n",
      "132 -> 138 ;\n",
      "139 [label=\"gini = 0.0\\nsamples = 10\\nvalue = [0, 0, 0, 0, 0, 0, 0, 10, 0, 0]\\nclass = 7\", fillcolor=\"#a339e5ff\"] ;\n",
      "138 -> 139 ;\n",
      "140 [label=\"X[4] <= 8.5\\ngini = 0.51\\nsamples = 12\\nvalue = [0, 0, 0, 0, 2, 1, 0, 1, 0, 8]\\nclass = 9\", fillcolor=\"#e5395899\"] ;\n",
      "138 -> 140 ;\n",
      "141 [label=\"X[11] <= 15.0\\ngini = 0.44\\nsamples = 3\\nvalue = [0, 0, 0, 0, 2, 1, 0, 0, 0, 0]\\nclass = 4\", fillcolor=\"#39e5c57f\"] ;\n",
      "140 -> 141 ;\n",
      "142 [label=\"gini = 0.0\\nsamples = 2\\nvalue = [0, 0, 0, 0, 2, 0, 0, 0, 0, 0]\\nclass = 4\", fillcolor=\"#39e5c5ff\"] ;\n",
      "141 -> 142 ;\n",
      "143 [label=\"gini = 0.0\\nsamples = 1\\nvalue = [0, 0, 0, 0, 0, 1, 0, 0, 0, 0]\\nclass = 5\", fillcolor=\"#399de5ff\"] ;\n",
      "141 -> 143 ;\n",
      "144 [label=\"X[17] <= 1.5\\ngini = 0.2\\nsamples = 9\\nvalue = [0, 0, 0, 0, 0, 0, 0, 1, 0, 8]\\nclass = 9\", fillcolor=\"#e53958df\"] ;\n",
      "140 -> 144 ;\n",
      "145 [label=\"gini = 0.0\\nsamples = 1\\nvalue = [0, 0, 0, 0, 0, 0, 0, 1, 0, 0]\\nclass = 7\", fillcolor=\"#a339e5ff\"] ;\n",
      "144 -> 145 ;\n",
      "146 [label=\"gini = 0.0\\nsamples = 8\\nvalue = [0, 0, 0, 0, 0, 0, 0, 0, 0, 8]\\nclass = 9\", fillcolor=\"#e53958ff\"] ;\n",
      "144 -> 146 ;\n",
      "147 [label=\"X[62] <= 0.5\\ngini = 0.76\\nsamples = 20\\nvalue = [0, 6, 1, 6, 0, 1, 0, 0, 2, 4]\\nclass = 1\", fillcolor=\"#e2e53900\"] ;\n",
      "119 -> 147 ;\n",
      "148 [label=\"X[18] <= 1.0\\ngini = 0.7\\nsamples = 14\\nvalue = [0, 0, 1, 6, 0, 1, 0, 0, 2, 4]\\nclass = 3\", fillcolor=\"#39e55e33\"] ;\n",
      "147 -> 148 ;\n",
      "149 [label=\"gini = 0.0\\nsamples = 6\\nvalue = [0, 0, 0, 6, 0, 0, 0, 0, 0, 0]\\nclass = 3\", fillcolor=\"#39e55eff\"] ;\n",
      "148 -> 149 ;\n",
      "150 [label=\"X[44] <= 5.5\\ngini = 0.66\\nsamples = 8\\nvalue = [0, 0, 1, 0, 0, 1, 0, 0, 2, 4]\\nclass = 9\", fillcolor=\"#e5395855\"] ;\n",
      "148 -> 150 ;\n",
      "151 [label=\"gini = 0.0\\nsamples = 4\\nvalue = [0, 0, 0, 0, 0, 0, 0, 0, 0, 4]\\nclass = 9\", fillcolor=\"#e53958ff\"] ;\n",
      "150 -> 151 ;\n",
      "152 [label=\"X[42] <= 10.0\\ngini = 0.62\\nsamples = 4\\nvalue = [0, 0, 1, 0, 0, 1, 0, 0, 2, 0]\\nclass = 8\", fillcolor=\"#e539c055\"] ;\n",
      "150 -> 152 ;\n",
      "153 [label=\"X[26] <= 8.0\\ngini = 0.5\\nsamples = 2\\nvalue = [0, 0, 1, 0, 0, 1, 0, 0, 0, 0]\\nclass = 2\", fillcolor=\"#7be53900\"] ;\n",
      "152 -> 153 ;\n",
      "154 [label=\"gini = 0.0\\nsamples = 1\\nvalue = [0, 0, 1, 0, 0, 0, 0, 0, 0, 0]\\nclass = 2\", fillcolor=\"#7be539ff\"] ;\n",
      "153 -> 154 ;\n",
      "155 [label=\"gini = 0.0\\nsamples = 1\\nvalue = [0, 0, 0, 0, 0, 1, 0, 0, 0, 0]\\nclass = 5\", fillcolor=\"#399de5ff\"] ;\n",
      "153 -> 155 ;\n",
      "156 [label=\"gini = 0.0\\nsamples = 2\\nvalue = [0, 0, 0, 0, 0, 0, 0, 0, 2, 0]\\nclass = 8\", fillcolor=\"#e539c0ff\"] ;\n",
      "152 -> 156 ;\n",
      "157 [label=\"gini = 0.0\\nsamples = 6\\nvalue = [0, 6, 0, 0, 0, 0, 0, 0, 0, 0]\\nclass = 1\", fillcolor=\"#e2e539ff\"] ;\n",
      "147 -> 157 ;\n",
      "158 [label=\"X[33] <= 3.5\\ngini = 0.84\\nsamples = 811\\nvalue = [4, 128, 121, 157, 114, 8, 4, 12, 157, 106]\\nclass = 3\", fillcolor=\"#39e55e00\"] ;\n",
      "102 -> 158 ;\n",
      "159 [label=\"X[43] <= 1.5\\ngini = 0.81\\nsamples = 666\\nvalue = [2, 107, 120, 156, 4, 7, 1, 10, 154, 105]\\nclass = 3\", fillcolor=\"#39e55e01\"] ;\n",
      "158 -> 159 ;\n",
      "160 [label=\"X[29] <= 12.5\\ngini = 0.64\\nsamples = 281\\nvalue = [0, 19, 6, 138, 0, 7, 0, 0, 16, 95]\\nclass = 3\", fillcolor=\"#39e55e3b\"] ;\n",
      "159 -> 160 ;\n",
      "161 [label=\"X[34] <= 3.5\\ngini = 0.34\\nsamples = 163\\nvalue = [0, 3, 2, 131, 0, 3, 0, 0, 14, 10]\\nclass = 3\", fillcolor=\"#39e55ec8\"] ;\n",
      "160 -> 161 ;\n",
      "162 [label=\"X[26] <= 8.5\\ngini = 0.15\\nsamples = 140\\nvalue = [0, 1, 2, 129, 0, 3, 0, 0, 0, 5]\\nclass = 3\", fillcolor=\"#39e55eea\"] ;\n",
      "161 -> 162 ;\n",
      "163 [label=\"X[28] <= 7.5\\ngini = 0.07\\nsamples = 133\\nvalue = [0, 1, 2, 128, 0, 0, 0, 0, 0, 2]\\nclass = 3\", fillcolor=\"#39e55ef5\"] ;\n",
      "162 -> 163 ;\n",
      "164 [label=\"gini = 0.0\\nsamples = 2\\nvalue = [0, 0, 2, 0, 0, 0, 0, 0, 0, 0]\\nclass = 2\", fillcolor=\"#7be539ff\"] ;\n",
      "163 -> 164 ;\n",
      "165 [label=\"X[19] <= 14.5\\ngini = 0.04\\nsamples = 131\\nvalue = [0, 1, 0, 128, 0, 0, 0, 0, 0, 2]\\nclass = 3\", fillcolor=\"#39e55ef9\"] ;\n",
      "163 -> 165 ;\n",
      "166 [label=\"X[4] <= 7.5\\ngini = 0.02\\nsamples = 129\\nvalue = [0, 0, 0, 128, 0, 0, 0, 0, 0, 1]\\nclass = 3\", fillcolor=\"#39e55efd\"] ;\n",
      "165 -> 166 ;\n",
      "167 [label=\"X[51] <= 3.0\\ngini = 0.38\\nsamples = 4\\nvalue = [0, 0, 0, 3, 0, 0, 0, 0, 0, 1]\\nclass = 3\", fillcolor=\"#39e55eaa\"] ;\n",
      "166 -> 167 ;\n",
      "168 [label=\"gini = 0.0\\nsamples = 1\\nvalue = [0, 0, 0, 0, 0, 0, 0, 0, 0, 1]\\nclass = 9\", fillcolor=\"#e53958ff\"] ;\n",
      "167 -> 168 ;\n",
      "169 [label=\"gini = 0.0\\nsamples = 3\\nvalue = [0, 0, 0, 3, 0, 0, 0, 0, 0, 0]\\nclass = 3\", fillcolor=\"#39e55eff\"] ;\n",
      "167 -> 169 ;\n",
      "170 [label=\"gini = 0.0\\nsamples = 125\\nvalue = [0, 0, 0, 125, 0, 0, 0, 0, 0, 0]\\nclass = 3\", fillcolor=\"#39e55eff\"] ;\n",
      "166 -> 170 ;\n",
      "171 [label=\"X[45] <= 15.5\\ngini = 0.5\\nsamples = 2\\nvalue = [0, 1, 0, 0, 0, 0, 0, 0, 0, 1]\\nclass = 1\", fillcolor=\"#e2e53900\"] ;\n",
      "165 -> 171 ;\n",
      "172 [label=\"gini = 0.0\\nsamples = 1\\nvalue = [0, 0, 0, 0, 0, 0, 0, 0, 0, 1]\\nclass = 9\", fillcolor=\"#e53958ff\"] ;\n",
      "171 -> 172 ;\n",
      "173 [label=\"gini = 0.0\\nsamples = 1\\nvalue = [0, 1, 0, 0, 0, 0, 0, 0, 0, 0]\\nclass = 1\", fillcolor=\"#e2e539ff\"] ;\n",
      "171 -> 173 ;\n",
      "174 [label=\"X[45] <= 9.0\\ngini = 0.61\\nsamples = 7\\nvalue = [0, 0, 0, 1, 0, 3, 0, 0, 0, 3]\\nclass = 5\", fillcolor=\"#399de500\"] ;\n",
      "162 -> 174 ;\n",
      "175 [label=\"gini = 0.0\\nsamples = 3\\nvalue = [0, 0, 0, 0, 0, 0, 0, 0, 0, 3]\\nclass = 9\", fillcolor=\"#e53958ff\"] ;\n",
      "174 -> 175 ;\n",
      "176 [label=\"X[58] <= 4.5\\ngini = 0.38\\nsamples = 4\\nvalue = [0, 0, 0, 1, 0, 3, 0, 0, 0, 0]\\nclass = 5\", fillcolor=\"#399de5aa\"] ;\n",
      "174 -> 176 ;\n",
      "177 [label=\"gini = 0.0\\nsamples = 1\\nvalue = [0, 0, 0, 1, 0, 0, 0, 0, 0, 0]\\nclass = 3\", fillcolor=\"#39e55eff\"] ;\n",
      "176 -> 177 ;\n",
      "178 [label=\"gini = 0.0\\nsamples = 3\\nvalue = [0, 0, 0, 0, 0, 3, 0, 0, 0, 0]\\nclass = 5\", fillcolor=\"#399de5ff\"] ;\n",
      "176 -> 178 ;\n",
      "179 [label=\"X[42] <= 3.5\\ngini = 0.57\\nsamples = 23\\nvalue = [0, 2, 0, 2, 0, 0, 0, 0, 14, 5]\\nclass = 8\", fillcolor=\"#e539c080\"] ;\n",
      "161 -> 179 ;\n",
      "180 [label=\"X[12] <= 13.5\\ngini = 0.59\\nsamples = 9\\nvalue = [0, 2, 0, 2, 0, 0, 0, 0, 0, 5]\\nclass = 9\", fillcolor=\"#e539586d\"] ;\n",
      "179 -> 180 ;\n",
      "181 [label=\"gini = 0.0\\nsamples = 5\\nvalue = [0, 0, 0, 0, 0, 0, 0, 0, 0, 5]\\nclass = 9\", fillcolor=\"#e53958ff\"] ;\n",
      "180 -> 181 ;\n",
      "182 [label=\"X[58] <= 4.0\\ngini = 0.5\\nsamples = 4\\nvalue = [0, 2, 0, 2, 0, 0, 0, 0, 0, 0]\\nclass = 1\", fillcolor=\"#e2e53900\"] ;\n",
      "180 -> 182 ;\n",
      "183 [label=\"gini = 0.0\\nsamples = 2\\nvalue = [0, 2, 0, 0, 0, 0, 0, 0, 0, 0]\\nclass = 1\", fillcolor=\"#e2e539ff\"] ;\n",
      "182 -> 183 ;\n",
      "184 [label=\"gini = 0.0\\nsamples = 2\\nvalue = [0, 0, 0, 2, 0, 0, 0, 0, 0, 0]\\nclass = 3\", fillcolor=\"#39e55eff\"] ;\n",
      "182 -> 184 ;\n",
      "185 [label=\"gini = 0.0\\nsamples = 14\\nvalue = [0, 0, 0, 0, 0, 0, 0, 0, 14, 0]\\nclass = 8\", fillcolor=\"#e539c0ff\"] ;\n",
      "179 -> 185 ;\n",
      "186 [label=\"X[35] <= 1.5\\ngini = 0.46\\nsamples = 118\\nvalue = [0, 16, 4, 7, 0, 4, 0, 0, 2, 85]\\nclass = 9\", fillcolor=\"#e53958ac\"] ;\n",
      "160 -> 186 ;\n",
      "187 [label=\"X[3] <= 3.5\\ngini = 0.71\\nsamples = 40\\nvalue = [0, 15, 4, 4, 0, 3, 0, 0, 0, 14]\\nclass = 1\", fillcolor=\"#e2e5390a\"] ;\n",
      "186 -> 187 ;\n",
      "188 [label=\"gini = 0.0\\nsamples = 15\\nvalue = [0, 15, 0, 0, 0, 0, 0, 0, 0, 0]\\nclass = 1\", fillcolor=\"#e2e539ff\"] ;\n",
      "187 -> 188 ;\n",
      "189 [label=\"X[27] <= 7.5\\ngini = 0.62\\nsamples = 25\\nvalue = [0, 0, 4, 4, 0, 3, 0, 0, 0, 14]\\nclass = 9\", fillcolor=\"#e5395879\"] ;\n",
      "187 -> 189 ;\n",
      "190 [label=\"X[55] <= 0.5\\ngini = 0.66\\nsamples = 10\\nvalue = [0, 0, 4, 4, 0, 1, 0, 0, 0, 1]\\nclass = 2\", fillcolor=\"#7be53900\"] ;\n",
      "189 -> 190 ;\n",
      "191 [label=\"X[28] <= 13.5\\ngini = 0.5\\nsamples = 6\\nvalue = [0, 0, 0, 4, 0, 1, 0, 0, 0, 1]\\nclass = 3\", fillcolor=\"#39e55e99\"] ;\n",
      "190 -> 191 ;\n",
      "192 [label=\"X[53] <= 13.5\\ngini = 0.5\\nsamples = 2\\nvalue = [0, 0, 0, 0, 0, 1, 0, 0, 0, 1]\\nclass = 5\", fillcolor=\"#399de500\"] ;\n",
      "191 -> 192 ;\n",
      "193 [label=\"gini = 0.0\\nsamples = 1\\nvalue = [0, 0, 0, 0, 0, 1, 0, 0, 0, 0]\\nclass = 5\", fillcolor=\"#399de5ff\"] ;\n",
      "192 -> 193 ;\n",
      "194 [label=\"gini = 0.0\\nsamples = 1\\nvalue = [0, 0, 0, 0, 0, 0, 0, 0, 0, 1]\\nclass = 9\", fillcolor=\"#e53958ff\"] ;\n",
      "192 -> 194 ;\n",
      "195 [label=\"gini = 0.0\\nsamples = 4\\nvalue = [0, 0, 0, 4, 0, 0, 0, 0, 0, 0]\\nclass = 3\", fillcolor=\"#39e55eff\"] ;\n",
      "191 -> 195 ;\n",
      "196 [label=\"gini = 0.0\\nsamples = 4\\nvalue = [0, 0, 4, 0, 0, 0, 0, 0, 0, 0]\\nclass = 2\", fillcolor=\"#7be539ff\"] ;\n",
      "190 -> 196 ;\n",
      "197 [label=\"X[25] <= 3.5\\ngini = 0.23\\nsamples = 15\\nvalue = [0, 0, 0, 0, 0, 2, 0, 0, 0, 13]\\nclass = 9\", fillcolor=\"#e53958d8\"] ;\n",
      "189 -> 197 ;\n",
      "198 [label=\"gini = 0.0\\nsamples = 13\\nvalue = [0, 0, 0, 0, 0, 0, 0, 0, 0, 13]\\nclass = 9\", fillcolor=\"#e53958ff\"] ;\n",
      "197 -> 198 ;\n",
      "199 [label=\"gini = 0.0\\nsamples = 2\\nvalue = [0, 0, 0, 0, 0, 2, 0, 0, 0, 0]\\nclass = 5\", fillcolor=\"#399de5ff\"] ;\n",
      "197 -> 199 ;\n",
      "200 [label=\"X[26] <= 2.5\\ngini = 0.17\\nsamples = 78\\nvalue = [0, 1, 0, 3, 0, 1, 0, 0, 2, 71]\\nclass = 9\", fillcolor=\"#e53958e7\"] ;\n",
      "186 -> 200 ;\n",
      "201 [label=\"gini = 0.0\\nsamples = 3\\nvalue = [0, 0, 0, 3, 0, 0, 0, 0, 0, 0]\\nclass = 3\", fillcolor=\"#39e55eff\"] ;\n",
      "200 -> 201 ;\n",
      "202 [label=\"X[21] <= 10.5\\ngini = 0.1\\nsamples = 75\\nvalue = [0, 1, 0, 0, 0, 1, 0, 0, 2, 71]\\nclass = 9\", fillcolor=\"#e53958f1\"] ;\n",
      "200 -> 202 ;\n",
      "203 [label=\"X[30] <= 2.5\\ngini = 0.64\\nsamples = 5\\nvalue = [0, 0, 0, 0, 0, 1, 0, 0, 2, 2]\\nclass = 8\", fillcolor=\"#e539c000\"] ;\n",
      "202 -> 203 ;\n",
      "204 [label=\"X[10] <= 14.5\\ngini = 0.44\\nsamples = 3\\nvalue = [0, 0, 0, 0, 0, 1, 0, 0, 2, 0]\\nclass = 8\", fillcolor=\"#e539c07f\"] ;\n",
      "203 -> 204 ;\n",
      "205 [label=\"gini = 0.0\\nsamples = 2\\nvalue = [0, 0, 0, 0, 0, 0, 0, 0, 2, 0]\\nclass = 8\", fillcolor=\"#e539c0ff\"] ;\n",
      "204 -> 205 ;\n",
      "206 [label=\"gini = 0.0\\nsamples = 1\\nvalue = [0, 0, 0, 0, 0, 1, 0, 0, 0, 0]\\nclass = 5\", fillcolor=\"#399de5ff\"] ;\n",
      "204 -> 206 ;\n",
      "207 [label=\"gini = 0.0\\nsamples = 2\\nvalue = [0, 0, 0, 0, 0, 0, 0, 0, 0, 2]\\nclass = 9\", fillcolor=\"#e53958ff\"] ;\n",
      "203 -> 207 ;\n",
      "208 [label=\"X[11] <= 1.0\\ngini = 0.03\\nsamples = 70\\nvalue = [0, 1, 0, 0, 0, 0, 0, 0, 0, 69]\\nclass = 9\", fillcolor=\"#e53958fb\"] ;\n",
      "202 -> 208 ;\n",
      "209 [label=\"gini = 0.0\\nsamples = 1\\nvalue = [0, 1, 0, 0, 0, 0, 0, 0, 0, 0]\\nclass = 1\", fillcolor=\"#e2e539ff\"] ;\n",
      "208 -> 209 ;\n",
      "210 [label=\"gini = 0.0\\nsamples = 69\\nvalue = [0, 0, 0, 0, 0, 0, 0, 0, 0, 69]\\nclass = 9\", fillcolor=\"#e53958ff\"] ;\n",
      "208 -> 210 ;\n",
      "211 [label=\"X[27] <= 7.5\\ngini = 0.73\\nsamples = 385\\nvalue = [2, 88, 114, 18, 4, 0, 1, 10, 138, 10]\\nclass = 8\", fillcolor=\"#e539c017\"] ;\n",
      "159 -> 211 ;\n",
      "212 [label=\"X[34] <= 3.5\\ngini = 0.4\\nsamples = 121\\nvalue = [1, 2, 93, 2, 2, 0, 0, 7, 9, 5]\\nclass = 2\", fillcolor=\"#7be539bf\"] ;\n",
      "211 -> 212 ;\n",
      "213 [label=\"X[50] <= 0.5\\ngini = 0.12\\nsamples = 95\\nvalue = [0, 2, 89, 2, 0, 0, 0, 2, 0, 0]\\nclass = 2\", fillcolor=\"#7be539ef\"] ;\n",
      "212 -> 213 ;\n",
      "214 [label=\"X[14] <= 3.5\\ngini = 0.72\\nsamples = 6\\nvalue = [0, 2, 1, 1, 0, 0, 0, 2, 0, 0]\\nclass = 1\", fillcolor=\"#e2e53900\"] ;\n",
      "213 -> 214 ;\n",
      "215 [label=\"X[20] <= 13.5\\ngini = 0.62\\nsamples = 4\\nvalue = [0, 2, 1, 1, 0, 0, 0, 0, 0, 0]\\nclass = 1\", fillcolor=\"#e2e53955\"] ;\n",
      "214 -> 215 ;\n",
      "216 [label=\"X[17] <= 8.0\\ngini = 0.5\\nsamples = 2\\nvalue = [0, 0, 1, 1, 0, 0, 0, 0, 0, 0]\\nclass = 2\", fillcolor=\"#7be53900\"] ;\n",
      "215 -> 216 ;\n",
      "217 [label=\"gini = 0.0\\nsamples = 1\\nvalue = [0, 0, 0, 1, 0, 0, 0, 0, 0, 0]\\nclass = 3\", fillcolor=\"#39e55eff\"] ;\n",
      "216 -> 217 ;\n",
      "218 [label=\"gini = 0.0\\nsamples = 1\\nvalue = [0, 0, 1, 0, 0, 0, 0, 0, 0, 0]\\nclass = 2\", fillcolor=\"#7be539ff\"] ;\n",
      "216 -> 218 ;\n",
      "219 [label=\"gini = 0.0\\nsamples = 2\\nvalue = [0, 2, 0, 0, 0, 0, 0, 0, 0, 0]\\nclass = 1\", fillcolor=\"#e2e539ff\"] ;\n",
      "215 -> 219 ;\n",
      "220 [label=\"gini = 0.0\\nsamples = 2\\nvalue = [0, 0, 0, 0, 0, 0, 0, 2, 0, 0]\\nclass = 7\", fillcolor=\"#a339e5ff\"] ;\n",
      "214 -> 220 ;\n",
      "221 [label=\"X[45] <= 14.0\\ngini = 0.02\\nsamples = 89\\nvalue = [0, 0, 88, 1, 0, 0, 0, 0, 0, 0]\\nclass = 2\", fillcolor=\"#7be539fc\"] ;\n",
      "213 -> 221 ;\n",
      "222 [label=\"gini = 0.0\\nsamples = 88\\nvalue = [0, 0, 88, 0, 0, 0, 0, 0, 0, 0]\\nclass = 2\", fillcolor=\"#7be539ff\"] ;\n",
      "221 -> 222 ;\n",
      "223 [label=\"gini = 0.0\\nsamples = 1\\nvalue = [0, 0, 0, 1, 0, 0, 0, 0, 0, 0]\\nclass = 3\", fillcolor=\"#39e55eff\"] ;\n",
      "221 -> 223 ;\n",
      "224 [label=\"X[37] <= 12.5\\ngini = 0.78\\nsamples = 26\\nvalue = [1, 0, 4, 0, 2, 0, 0, 5, 9, 5]\\nclass = 8\", fillcolor=\"#e539c031\"] ;\n",
      "212 -> 224 ;\n",
      "225 [label=\"X[26] <= 4.5\\ngini = 0.38\\nsamples = 12\\nvalue = [0, 0, 3, 0, 0, 0, 0, 0, 9, 0]\\nclass = 8\", fillcolor=\"#e539c0aa\"] ;\n",
      "224 -> 225 ;\n",
      "226 [label=\"gini = 0.0\\nsamples = 3\\nvalue = [0, 0, 3, 0, 0, 0, 0, 0, 0, 0]\\nclass = 2\", fillcolor=\"#7be539ff\"] ;\n",
      "225 -> 226 ;\n",
      "227 [label=\"gini = 0.0\\nsamples = 9\\nvalue = [0, 0, 0, 0, 0, 0, 0, 0, 9, 0]\\nclass = 8\", fillcolor=\"#e539c0ff\"] ;\n",
      "225 -> 227 ;\n",
      "228 [label=\"X[54] <= 2.0\\ngini = 0.71\\nsamples = 14\\nvalue = [1, 0, 1, 0, 2, 0, 0, 5, 0, 5]\\nclass = 7\", fillcolor=\"#a339e500\"] ;\n",
      "224 -> 228 ;\n",
      "229 [label=\"X[52] <= 14.0\\ngini = 0.62\\nsamples = 9\\nvalue = [1, 0, 1, 0, 2, 0, 0, 5, 0, 0]\\nclass = 7\", fillcolor=\"#a339e56d\"] ;\n",
      "228 -> 229 ;\n",
      "230 [label=\"gini = 0.0\\nsamples = 5\\nvalue = [0, 0, 0, 0, 0, 0, 0, 5, 0, 0]\\nclass = 7\", fillcolor=\"#a339e5ff\"] ;\n",
      "229 -> 230 ;\n",
      "231 [label=\"X[21] <= 8.5\\ngini = 0.62\\nsamples = 4\\nvalue = [1, 0, 1, 0, 2, 0, 0, 0, 0, 0]\\nclass = 4\", fillcolor=\"#39e5c555\"] ;\n",
      "229 -> 231 ;\n",
      "232 [label=\"gini = 0.0\\nsamples = 2\\nvalue = [0, 0, 0, 0, 2, 0, 0, 0, 0, 0]\\nclass = 4\", fillcolor=\"#39e5c5ff\"] ;\n",
      "231 -> 232 ;\n",
      "233 [label=\"X[50] <= 8.5\\ngini = 0.5\\nsamples = 2\\nvalue = [1, 0, 1, 0, 0, 0, 0, 0, 0, 0]\\nclass = 0\", fillcolor=\"#e5813900\"] ;\n",
      "231 -> 233 ;\n",
      "234 [label=\"gini = 0.0\\nsamples = 1\\nvalue = [0, 0, 1, 0, 0, 0, 0, 0, 0, 0]\\nclass = 2\", fillcolor=\"#7be539ff\"] ;\n",
      "233 -> 234 ;\n",
      "235 [label=\"gini = 0.0\\nsamples = 1\\nvalue = [1, 0, 0, 0, 0, 0, 0, 0, 0, 0]\\nclass = 0\", fillcolor=\"#e58139ff\"] ;\n",
      "233 -> 235 ;\n",
      "236 [label=\"gini = 0.0\\nsamples = 5\\nvalue = [0, 0, 0, 0, 0, 0, 0, 0, 0, 5]\\nclass = 9\", fillcolor=\"#e53958ff\"] ;\n",
      "228 -> 236 ;\n",
      "237 [label=\"X[20] <= 15.5\\ngini = 0.64\\nsamples = 264\\nvalue = [1, 86, 21, 16, 2, 0, 1, 3, 129, 5]\\nclass = 8\", fillcolor=\"#e539c03e\"] ;\n",
      "211 -> 237 ;\n",
      "238 [label=\"X[18] <= 2.5\\ngini = 0.36\\nsamples = 147\\nvalue = [1, 5, 4, 11, 0, 0, 1, 3, 117, 5]\\nclass = 8\", fillcolor=\"#e539c0c7\"] ;\n",
      "237 -> 238 ;\n",
      "239 [label=\"X[10] <= 6.5\\ngini = 0.77\\nsamples = 16\\nvalue = [0, 2, 2, 6, 0, 0, 1, 2, 3, 0]\\nclass = 3\", fillcolor=\"#39e55e3b\"] ;\n",
      "238 -> 239 ;\n",
      "240 [label=\"X[42] <= 12.0\\ngini = 0.72\\nsamples = 8\\nvalue = [0, 2, 0, 0, 0, 0, 1, 2, 3, 0]\\nclass = 8\", fillcolor=\"#e539c02a\"] ;\n",
      "239 -> 240 ;\n",
      "241 [label=\"X[45] <= 3.0\\ngini = 0.64\\nsamples = 5\\nvalue = [0, 2, 0, 0, 0, 0, 1, 2, 0, 0]\\nclass = 1\", fillcolor=\"#e2e53900\"] ;\n",
      "240 -> 241 ;\n",
      "242 [label=\"X[61] <= 8.0\\ngini = 0.44\\nsamples = 3\\nvalue = [0, 2, 0, 0, 0, 0, 1, 0, 0, 0]\\nclass = 1\", fillcolor=\"#e2e5397f\"] ;\n",
      "241 -> 242 ;\n",
      "243 [label=\"gini = 0.0\\nsamples = 2\\nvalue = [0, 2, 0, 0, 0, 0, 0, 0, 0, 0]\\nclass = 1\", fillcolor=\"#e2e539ff\"] ;\n",
      "242 -> 243 ;\n",
      "244 [label=\"gini = 0.0\\nsamples = 1\\nvalue = [0, 0, 0, 0, 0, 0, 1, 0, 0, 0]\\nclass = 6\", fillcolor=\"#3c39e5ff\"] ;\n",
      "242 -> 244 ;\n",
      "245 [label=\"gini = 0.0\\nsamples = 2\\nvalue = [0, 0, 0, 0, 0, 0, 0, 2, 0, 0]\\nclass = 7\", fillcolor=\"#a339e5ff\"] ;\n",
      "241 -> 245 ;\n",
      "246 [label=\"gini = 0.0\\nsamples = 3\\nvalue = [0, 0, 0, 0, 0, 0, 0, 0, 3, 0]\\nclass = 8\", fillcolor=\"#e539c0ff\"] ;\n",
      "240 -> 246 ;\n",
      "247 [label=\"X[13] <= 8.0\\ngini = 0.38\\nsamples = 8\\nvalue = [0, 0, 2, 6, 0, 0, 0, 0, 0, 0]\\nclass = 3\", fillcolor=\"#39e55eaa\"] ;\n",
      "239 -> 247 ;\n",
      "248 [label=\"gini = 0.0\\nsamples = 2\\nvalue = [0, 0, 2, 0, 0, 0, 0, 0, 0, 0]\\nclass = 2\", fillcolor=\"#7be539ff\"] ;\n",
      "247 -> 248 ;\n",
      "249 [label=\"gini = 0.0\\nsamples = 6\\nvalue = [0, 0, 0, 6, 0, 0, 0, 0, 0, 0]\\nclass = 3\", fillcolor=\"#39e55eff\"] ;\n",
      "247 -> 249 ;\n",
      "250 [label=\"X[38] <= 3.5\\ngini = 0.24\\nsamples = 131\\nvalue = [1, 3, 2, 5, 0, 0, 0, 1, 114, 5]\\nclass = 8\", fillcolor=\"#e539c0dd\"] ;\n",
      "238 -> 250 ;\n",
      "251 [label=\"X[21] <= 4.0\\ngini = 0.17\\nsamples = 125\\nvalue = [0, 3, 2, 3, 0, 0, 0, 0, 114, 3]\\nclass = 8\", fillcolor=\"#e539c0e8\"] ;\n",
      "250 -> 251 ;\n",
      "252 [label=\"X[59] <= 12.0\\ngini = 0.48\\nsamples = 5\\nvalue = [0, 3, 0, 0, 0, 0, 0, 0, 2, 0]\\nclass = 1\", fillcolor=\"#e2e53955\"] ;\n",
      "251 -> 252 ;\n",
      "253 [label=\"gini = 0.0\\nsamples = 3\\nvalue = [0, 3, 0, 0, 0, 0, 0, 0, 0, 0]\\nclass = 1\", fillcolor=\"#e2e539ff\"] ;\n",
      "252 -> 253 ;\n",
      "254 [label=\"gini = 0.0\\nsamples = 2\\nvalue = [0, 0, 0, 0, 0, 0, 0, 0, 2, 0]\\nclass = 8\", fillcolor=\"#e539c0ff\"] ;\n",
      "252 -> 254 ;\n",
      "255 [label=\"X[50] <= 2.5\\ngini = 0.13\\nsamples = 120\\nvalue = [0, 0, 2, 3, 0, 0, 0, 0, 112, 3]\\nclass = 8\", fillcolor=\"#e539c0ee\"] ;\n",
      "251 -> 255 ;\n",
      "256 [label=\"X[51] <= 9.5\\ngini = 0.5\\nsamples = 15\\nvalue = [0, 0, 0, 2, 0, 0, 0, 0, 10, 3]\\nclass = 8\", fillcolor=\"#e539c095\"] ;\n",
      "255 -> 256 ;\n",
      "257 [label=\"X[54] <= 0.5\\ngini = 0.48\\nsamples = 5\\nvalue = [0, 0, 0, 2, 0, 0, 0, 0, 0, 3]\\nclass = 9\", fillcolor=\"#e5395855\"] ;\n",
      "256 -> 257 ;\n",
      "258 [label=\"gini = 0.0\\nsamples = 3\\nvalue = [0, 0, 0, 0, 0, 0, 0, 0, 0, 3]\\nclass = 9\", fillcolor=\"#e53958ff\"] ;\n",
      "257 -> 258 ;\n",
      "259 [label=\"gini = 0.0\\nsamples = 2\\nvalue = [0, 0, 0, 2, 0, 0, 0, 0, 0, 0]\\nclass = 3\", fillcolor=\"#39e55eff\"] ;\n",
      "257 -> 259 ;\n",
      "260 [label=\"gini = 0.0\\nsamples = 10\\nvalue = [0, 0, 0, 0, 0, 0, 0, 0, 10, 0]\\nclass = 8\", fillcolor=\"#e539c0ff\"] ;\n",
      "256 -> 260 ;\n",
      "261 [label=\"X[35] <= 5.0\\ngini = 0.06\\nsamples = 105\\nvalue = [0, 0, 2, 1, 0, 0, 0, 0, 102, 0]\\nclass = 8\", fillcolor=\"#e539c0f8\"] ;\n",
      "255 -> 261 ;\n",
      "262 [label=\"gini = 0.0\\nsamples = 1\\nvalue = [0, 0, 0, 1, 0, 0, 0, 0, 0, 0]\\nclass = 3\", fillcolor=\"#39e55eff\"] ;\n",
      "261 -> 262 ;\n",
      "263 [label=\"X[27] <= 8.5\\ngini = 0.04\\nsamples = 104\\nvalue = [0, 0, 2, 0, 0, 0, 0, 0, 102, 0]\\nclass = 8\", fillcolor=\"#e539c0fa\"] ;\n",
      "261 -> 263 ;\n",
      "264 [label=\"X[3] <= 15.0\\ngini = 0.5\\nsamples = 2\\nvalue = [0, 0, 1, 0, 0, 0, 0, 0, 1, 0]\\nclass = 2\", fillcolor=\"#7be53900\"] ;\n",
      "263 -> 264 ;\n",
      "265 [label=\"gini = 0.0\\nsamples = 1\\nvalue = [0, 0, 0, 0, 0, 0, 0, 0, 1, 0]\\nclass = 8\", fillcolor=\"#e539c0ff\"] ;\n",
      "264 -> 265 ;\n",
      "266 [label=\"gini = 0.0\\nsamples = 1\\nvalue = [0, 0, 1, 0, 0, 0, 0, 0, 0, 0]\\nclass = 2\", fillcolor=\"#7be539ff\"] ;\n",
      "264 -> 266 ;\n",
      "267 [label=\"X[36] <= 4.5\\ngini = 0.02\\nsamples = 102\\nvalue = [0, 0, 1, 0, 0, 0, 0, 0, 101, 0]\\nclass = 8\", fillcolor=\"#e539c0fc\"] ;\n",
      "263 -> 267 ;\n",
      "268 [label=\"X[36] <= 3.0\\ngini = 0.44\\nsamples = 3\\nvalue = [0, 0, 1, 0, 0, 0, 0, 0, 2, 0]\\nclass = 8\", fillcolor=\"#e539c07f\"] ;\n",
      "267 -> 268 ;\n",
      "269 [label=\"gini = 0.0\\nsamples = 2\\nvalue = [0, 0, 0, 0, 0, 0, 0, 0, 2, 0]\\nclass = 8\", fillcolor=\"#e539c0ff\"] ;\n",
      "268 -> 269 ;\n",
      "270 [label=\"gini = 0.0\\nsamples = 1\\nvalue = [0, 0, 1, 0, 0, 0, 0, 0, 0, 0]\\nclass = 2\", fillcolor=\"#7be539ff\"] ;\n",
      "268 -> 270 ;\n",
      "271 [label=\"gini = 0.0\\nsamples = 99\\nvalue = [0, 0, 0, 0, 0, 0, 0, 0, 99, 0]\\nclass = 8\", fillcolor=\"#e539c0ff\"] ;\n",
      "267 -> 271 ;\n",
      "272 [label=\"X[52] <= 4.5\\ngini = 0.72\\nsamples = 6\\nvalue = [1, 0, 0, 2, 0, 0, 0, 1, 0, 2]\\nclass = 3\", fillcolor=\"#39e55e00\"] ;\n",
      "250 -> 272 ;\n",
      "273 [label=\"gini = 0.0\\nsamples = 2\\nvalue = [0, 0, 0, 0, 0, 0, 0, 0, 0, 2]\\nclass = 9\", fillcolor=\"#e53958ff\"] ;\n",
      "272 -> 273 ;\n",
      "274 [label=\"X[54] <= 2.5\\ngini = 0.62\\nsamples = 4\\nvalue = [1, 0, 0, 2, 0, 0, 0, 1, 0, 0]\\nclass = 3\", fillcolor=\"#39e55e55\"] ;\n",
      "272 -> 274 ;\n",
      "275 [label=\"X[13] <= 14.5\\ngini = 0.5\\nsamples = 2\\nvalue = [1, 0, 0, 0, 0, 0, 0, 1, 0, 0]\\nclass = 0\", fillcolor=\"#e5813900\"] ;\n",
      "274 -> 275 ;\n",
      "276 [label=\"gini = 0.0\\nsamples = 1\\nvalue = [1, 0, 0, 0, 0, 0, 0, 0, 0, 0]\\nclass = 0\", fillcolor=\"#e58139ff\"] ;\n",
      "275 -> 276 ;\n",
      "277 [label=\"gini = 0.0\\nsamples = 1\\nvalue = [0, 0, 0, 0, 0, 0, 0, 1, 0, 0]\\nclass = 7\", fillcolor=\"#a339e5ff\"] ;\n",
      "275 -> 277 ;\n",
      "278 [label=\"gini = 0.0\\nsamples = 2\\nvalue = [0, 0, 0, 2, 0, 0, 0, 0, 0, 0]\\nclass = 3\", fillcolor=\"#39e55eff\"] ;\n",
      "274 -> 278 ;\n",
      "279 [label=\"X[44] <= 6.5\\ngini = 0.49\\nsamples = 117\\nvalue = [0, 81, 17, 5, 2, 0, 0, 0, 12, 0]\\nclass = 1\", fillcolor=\"#e2e539a3\"] ;\n",
      "237 -> 279 ;\n",
      "280 [label=\"X[45] <= 13.0\\ngini = 0.26\\nsamples = 20\\nvalue = [0, 0, 17, 1, 0, 0, 0, 0, 2, 0]\\nclass = 2\", fillcolor=\"#7be539d4\"] ;\n",
      "279 -> 280 ;\n",
      "281 [label=\"gini = 0.0\\nsamples = 17\\nvalue = [0, 0, 17, 0, 0, 0, 0, 0, 0, 0]\\nclass = 2\", fillcolor=\"#7be539ff\"] ;\n",
      "280 -> 281 ;\n",
      "282 [label=\"X[26] <= 3.5\\ngini = 0.44\\nsamples = 3\\nvalue = [0, 0, 0, 1, 0, 0, 0, 0, 2, 0]\\nclass = 8\", fillcolor=\"#e539c07f\"] ;\n",
      "280 -> 282 ;\n",
      "283 [label=\"gini = 0.0\\nsamples = 2\\nvalue = [0, 0, 0, 0, 0, 0, 0, 0, 2, 0]\\nclass = 8\", fillcolor=\"#e539c0ff\"] ;\n",
      "282 -> 283 ;\n",
      "284 [label=\"gini = 0.0\\nsamples = 1\\nvalue = [0, 0, 0, 1, 0, 0, 0, 0, 0, 0]\\nclass = 3\", fillcolor=\"#39e55eff\"] ;\n",
      "282 -> 284 ;\n",
      "285 [label=\"X[10] <= 13.5\\ngini = 0.29\\nsamples = 97\\nvalue = [0, 81, 0, 4, 2, 0, 0, 0, 10, 0]\\nclass = 1\", fillcolor=\"#e2e539d0\"] ;\n",
      "279 -> 285 ;\n",
      "286 [label=\"X[52] <= 9.0\\ngini = 0.19\\nsamples = 90\\nvalue = [0, 81, 0, 2, 2, 0, 0, 0, 5, 0]\\nclass = 1\", fillcolor=\"#e2e539e4\"] ;\n",
      "285 -> 286 ;\n",
      "287 [label=\"X[4] <= 15.5\\ngini = 0.56\\nsamples = 5\\nvalue = [0, 1, 0, 1, 0, 0, 0, 0, 3, 0]\\nclass = 8\", fillcolor=\"#e539c07f\"] ;\n",
      "286 -> 287 ;\n",
      "288 [label=\"X[53] <= 6.0\\ngini = 0.38\\nsamples = 4\\nvalue = [0, 1, 0, 0, 0, 0, 0, 0, 3, 0]\\nclass = 8\", fillcolor=\"#e539c0aa\"] ;\n",
      "287 -> 288 ;\n",
      "289 [label=\"gini = 0.0\\nsamples = 1\\nvalue = [0, 1, 0, 0, 0, 0, 0, 0, 0, 0]\\nclass = 1\", fillcolor=\"#e2e539ff\"] ;\n",
      "288 -> 289 ;\n",
      "290 [label=\"gini = 0.0\\nsamples = 3\\nvalue = [0, 0, 0, 0, 0, 0, 0, 0, 3, 0]\\nclass = 8\", fillcolor=\"#e539c0ff\"] ;\n",
      "288 -> 290 ;\n",
      "291 [label=\"gini = 0.0\\nsamples = 1\\nvalue = [0, 0, 0, 1, 0, 0, 0, 0, 0, 0]\\nclass = 3\", fillcolor=\"#39e55eff\"] ;\n",
      "287 -> 291 ;\n",
      "292 [label=\"X[41] <= 7.5\\ngini = 0.11\\nsamples = 85\\nvalue = [0, 80, 0, 1, 2, 0, 0, 0, 2, 0]\\nclass = 1\", fillcolor=\"#e2e539f0\"] ;\n",
      "286 -> 292 ;\n",
      "293 [label=\"X[19] <= 5.5\\ngini = 0.07\\nsamples = 83\\nvalue = [0, 80, 0, 1, 0, 0, 0, 0, 2, 0]\\nclass = 1\", fillcolor=\"#e2e539f6\"] ;\n",
      "292 -> 293 ;\n",
      "294 [label=\"gini = 0.0\\nsamples = 1\\nvalue = [0, 0, 0, 1, 0, 0, 0, 0, 0, 0]\\nclass = 3\", fillcolor=\"#39e55eff\"] ;\n",
      "293 -> 294 ;\n",
      "295 [label=\"X[28] <= 8.0\\ngini = 0.05\\nsamples = 82\\nvalue = [0, 80, 0, 0, 0, 0, 0, 0, 2, 0]\\nclass = 1\", fillcolor=\"#e2e539f9\"] ;\n",
      "293 -> 295 ;\n",
      "296 [label=\"gini = 0.0\\nsamples = 1\\nvalue = [0, 0, 0, 0, 0, 0, 0, 0, 1, 0]\\nclass = 8\", fillcolor=\"#e539c0ff\"] ;\n",
      "295 -> 296 ;\n",
      "297 [label=\"X[12] <= 9.0\\ngini = 0.02\\nsamples = 81\\nvalue = [0, 80, 0, 0, 0, 0, 0, 0, 1, 0]\\nclass = 1\", fillcolor=\"#e2e539fc\"] ;\n",
      "295 -> 297 ;\n",
      "298 [label=\"X[4] <= 10.0\\ngini = 0.5\\nsamples = 2\\nvalue = [0, 1, 0, 0, 0, 0, 0, 0, 1, 0]\\nclass = 1\", fillcolor=\"#e2e53900\"] ;\n",
      "297 -> 298 ;\n",
      "299 [label=\"gini = 0.0\\nsamples = 1\\nvalue = [0, 0, 0, 0, 0, 0, 0, 0, 1, 0]\\nclass = 8\", fillcolor=\"#e539c0ff\"] ;\n",
      "298 -> 299 ;\n",
      "300 [label=\"gini = 0.0\\nsamples = 1\\nvalue = [0, 1, 0, 0, 0, 0, 0, 0, 0, 0]\\nclass = 1\", fillcolor=\"#e2e539ff\"] ;\n",
      "298 -> 300 ;\n",
      "301 [label=\"gini = 0.0\\nsamples = 79\\nvalue = [0, 79, 0, 0, 0, 0, 0, 0, 0, 0]\\nclass = 1\", fillcolor=\"#e2e539ff\"] ;\n",
      "297 -> 301 ;\n",
      "302 [label=\"gini = 0.0\\nsamples = 2\\nvalue = [0, 0, 0, 0, 2, 0, 0, 0, 0, 0]\\nclass = 4\", fillcolor=\"#39e5c5ff\"] ;\n",
      "292 -> 302 ;\n",
      "303 [label=\"X[42] <= 5.0\\ngini = 0.41\\nsamples = 7\\nvalue = [0, 0, 0, 2, 0, 0, 0, 0, 5, 0]\\nclass = 8\", fillcolor=\"#e539c099\"] ;\n",
      "285 -> 303 ;\n",
      "304 [label=\"gini = 0.0\\nsamples = 2\\nvalue = [0, 0, 0, 2, 0, 0, 0, 0, 0, 0]\\nclass = 3\", fillcolor=\"#39e55eff\"] ;\n",
      "303 -> 304 ;\n",
      "305 [label=\"gini = 0.0\\nsamples = 5\\nvalue = [0, 0, 0, 0, 0, 0, 0, 0, 5, 0]\\nclass = 8\", fillcolor=\"#e539c0ff\"] ;\n",
      "303 -> 305 ;\n",
      "306 [label=\"X[13] <= 9.5\\ngini = 0.4\\nsamples = 145\\nvalue = [2, 21, 1, 1, 110, 1, 3, 2, 3, 1]\\nclass = 4\", fillcolor=\"#39e5c5b7\"] ;\n",
      "158 -> 306 ;\n",
      "307 [label=\"X[2] <= 1.5\\ngini = 0.09\\nsamples = 110\\nvalue = [0, 3, 0, 0, 105, 0, 1, 0, 0, 1]\\nclass = 4\", fillcolor=\"#39e5c5f3\"] ;\n",
      "306 -> 307 ;\n",
      "308 [label=\"X[34] <= 8.5\\ngini = 0.04\\nsamples = 107\\nvalue = [0, 1, 0, 0, 105, 0, 0, 0, 0, 1]\\nclass = 4\", fillcolor=\"#39e5c5fa\"] ;\n",
      "307 -> 308 ;\n",
      "309 [label=\"gini = 0.0\\nsamples = 1\\nvalue = [0, 1, 0, 0, 0, 0, 0, 0, 0, 0]\\nclass = 1\", fillcolor=\"#e2e539ff\"] ;\n",
      "308 -> 309 ;\n",
      "310 [label=\"X[6] <= 8.0\\ngini = 0.02\\nsamples = 106\\nvalue = [0, 0, 0, 0, 105, 0, 0, 0, 0, 1]\\nclass = 4\", fillcolor=\"#39e5c5fd\"] ;\n",
      "308 -> 310 ;\n",
      "311 [label=\"gini = 0.0\\nsamples = 105\\nvalue = [0, 0, 0, 0, 105, 0, 0, 0, 0, 0]\\nclass = 4\", fillcolor=\"#39e5c5ff\"] ;\n",
      "310 -> 311 ;\n",
      "312 [label=\"gini = 0.0\\nsamples = 1\\nvalue = [0, 0, 0, 0, 0, 0, 0, 0, 0, 1]\\nclass = 9\", fillcolor=\"#e53958ff\"] ;\n",
      "310 -> 312 ;\n",
      "313 [label=\"X[50] <= 14.0\\ngini = 0.44\\nsamples = 3\\nvalue = [0, 2, 0, 0, 0, 0, 1, 0, 0, 0]\\nclass = 1\", fillcolor=\"#e2e5397f\"] ;\n",
      "307 -> 313 ;\n",
      "314 [label=\"gini = 0.0\\nsamples = 2\\nvalue = [0, 2, 0, 0, 0, 0, 0, 0, 0, 0]\\nclass = 1\", fillcolor=\"#e2e539ff\"] ;\n",
      "313 -> 314 ;\n",
      "315 [label=\"gini = 0.0\\nsamples = 1\\nvalue = [0, 0, 0, 0, 0, 0, 1, 0, 0, 0]\\nclass = 6\", fillcolor=\"#3c39e5ff\"] ;\n",
      "313 -> 315 ;\n",
      "316 [label=\"X[27] <= 14.5\\ngini = 0.7\\nsamples = 35\\nvalue = [2, 18, 1, 1, 5, 1, 2, 2, 3, 0]\\nclass = 1\", fillcolor=\"#e2e5396e\"] ;\n",
      "306 -> 316 ;\n",
      "317 [label=\"X[59] <= 7.5\\ngini = 0.84\\nsamples = 16\\nvalue = [2, 1, 1, 1, 5, 1, 2, 2, 1, 0]\\nclass = 4\", fillcolor=\"#39e5c537\"] ;\n",
      "316 -> 317 ;\n",
      "318 [label=\"X[37] <= 10.5\\ngini = 0.45\\nsamples = 7\\nvalue = [0, 1, 1, 0, 5, 0, 0, 0, 0, 0]\\nclass = 4\", fillcolor=\"#39e5c5aa\"] ;\n",
      "317 -> 318 ;\n",
      "319 [label=\"X[54] <= 1.0\\ngini = 0.5\\nsamples = 2\\nvalue = [0, 1, 1, 0, 0, 0, 0, 0, 0, 0]\\nclass = 1\", fillcolor=\"#e2e53900\"] ;\n",
      "318 -> 319 ;\n",
      "320 [label=\"gini = 0.0\\nsamples = 1\\nvalue = [0, 1, 0, 0, 0, 0, 0, 0, 0, 0]\\nclass = 1\", fillcolor=\"#e2e539ff\"] ;\n",
      "319 -> 320 ;\n",
      "321 [label=\"gini = 0.0\\nsamples = 1\\nvalue = [0, 0, 1, 0, 0, 0, 0, 0, 0, 0]\\nclass = 2\", fillcolor=\"#7be539ff\"] ;\n",
      "319 -> 321 ;\n",
      "322 [label=\"gini = 0.0\\nsamples = 5\\nvalue = [0, 0, 0, 0, 5, 0, 0, 0, 0, 0]\\nclass = 4\", fillcolor=\"#39e5c5ff\"] ;\n",
      "318 -> 322 ;\n",
      "323 [label=\"X[30] <= 1.5\\ngini = 0.81\\nsamples = 9\\nvalue = [2, 0, 0, 1, 0, 1, 2, 2, 1, 0]\\nclass = 0\", fillcolor=\"#e5813900\"] ;\n",
      "317 -> 323 ;\n",
      "324 [label=\"gini = 0.0\\nsamples = 2\\nvalue = [0, 0, 0, 0, 0, 0, 2, 0, 0, 0]\\nclass = 6\", fillcolor=\"#3c39e5ff\"] ;\n",
      "323 -> 324 ;\n",
      "325 [label=\"X[19] <= 1.5\\ngini = 0.78\\nsamples = 7\\nvalue = [2, 0, 0, 1, 0, 1, 0, 2, 1, 0]\\nclass = 0\", fillcolor=\"#e5813900\"] ;\n",
      "323 -> 325 ;\n",
      "326 [label=\"gini = 0.0\\nsamples = 2\\nvalue = [0, 0, 0, 0, 0, 0, 0, 2, 0, 0]\\nclass = 7\", fillcolor=\"#a339e5ff\"] ;\n",
      "325 -> 326 ;\n",
      "327 [label=\"X[4] <= 15.5\\ngini = 0.72\\nsamples = 5\\nvalue = [2, 0, 0, 1, 0, 1, 0, 0, 1, 0]\\nclass = 0\", fillcolor=\"#e5813940\"] ;\n",
      "325 -> 327 ;\n",
      "328 [label=\"gini = 0.0\\nsamples = 2\\nvalue = [2, 0, 0, 0, 0, 0, 0, 0, 0, 0]\\nclass = 0\", fillcolor=\"#e58139ff\"] ;\n",
      "327 -> 328 ;\n",
      "329 [label=\"X[33] <= 6.0\\ngini = 0.67\\nsamples = 3\\nvalue = [0, 0, 0, 1, 0, 1, 0, 0, 1, 0]\\nclass = 3\", fillcolor=\"#39e55e00\"] ;\n",
      "327 -> 329 ;\n",
      "330 [label=\"gini = 0.0\\nsamples = 1\\nvalue = [0, 0, 0, 1, 0, 0, 0, 0, 0, 0]\\nclass = 3\", fillcolor=\"#39e55eff\"] ;\n",
      "329 -> 330 ;\n",
      "331 [label=\"X[14] <= 5.5\\ngini = 0.5\\nsamples = 2\\nvalue = [0, 0, 0, 0, 0, 1, 0, 0, 1, 0]\\nclass = 5\", fillcolor=\"#399de500\"] ;\n",
      "329 -> 331 ;\n",
      "332 [label=\"gini = 0.0\\nsamples = 1\\nvalue = [0, 0, 0, 0, 0, 0, 0, 0, 1, 0]\\nclass = 8\", fillcolor=\"#e539c0ff\"] ;\n",
      "331 -> 332 ;\n",
      "333 [label=\"gini = 0.0\\nsamples = 1\\nvalue = [0, 0, 0, 0, 0, 1, 0, 0, 0, 0]\\nclass = 5\", fillcolor=\"#399de5ff\"] ;\n",
      "331 -> 333 ;\n",
      "334 [label=\"X[12] <= 11.0\\ngini = 0.19\\nsamples = 19\\nvalue = [0, 17, 0, 0, 0, 0, 0, 0, 2, 0]\\nclass = 1\", fillcolor=\"#e2e539e1\"] ;\n",
      "316 -> 334 ;\n",
      "335 [label=\"gini = 0.0\\nsamples = 2\\nvalue = [0, 0, 0, 0, 0, 0, 0, 0, 2, 0]\\nclass = 8\", fillcolor=\"#e539c0ff\"] ;\n",
      "334 -> 335 ;\n",
      "336 [label=\"gini = 0.0\\nsamples = 17\\nvalue = [0, 17, 0, 0, 0, 0, 0, 0, 0, 0]\\nclass = 1\", fillcolor=\"#e2e539ff\"] ;\n",
      "334 -> 336 ;\n",
      "}\n"
     ]
    }
   ],
   "source": [
    "from sklearn.tree import export_graphviz\n",
    "\n",
    "file_name = ''  # 'tree.dot'\n",
    "\n",
    "if file_name:\n",
    "  dt_graph = export_graphviz(clf, out_file=file_name,\n",
    "                class_names = list(map(str,digits.target_names)),\n",
    "                rounded = True, proportion = False, \n",
    "                precision = 2, filled = True)\n",
    "else:  \n",
    "  dt_graph = export_graphviz(clf,\n",
    "                class_names = list(map(str,digits.target_names)),\n",
    "                rounded = True, proportion = False, \n",
    "                precision = 2, filled = True)\n",
    "  print(dt_graph)"
   ]
  },
  {
   "cell_type": "markdown",
   "metadata": {},
   "source": [
    "Para visualizar vamos utilizar o GraphViz no Browser:\n",
    "- http://www.webgraphviz.com/\n",
    "- http://viz-js.com/"
   ]
  },
  {
   "cell_type": "markdown",
   "metadata": {},
   "source": [
    "##### Ensemble Methods: A união faz a força!"
   ]
  },
  {
   "cell_type": "markdown",
   "metadata": {},
   "source": [
    "- **Random Forest: A eleição na floresta!**"
   ]
  },
  {
   "cell_type": "code",
   "execution_count": 15,
   "metadata": {},
   "outputs": [
    {
     "name": "stderr",
     "output_type": "stream",
     "text": [
      "C:\\Users\\alexandre.cardoso.GTIT\\AppData\\Local\\Continuum\\anaconda3\\envs\\mc_classificadores\\lib\\site-packages\\sklearn\\ensemble\\forest.py:246: FutureWarning: The default value of n_estimators will change from 10 in version 0.20 to 100 in 0.22.\n",
      "  \"10 in version 0.20 to 100 in 0.22.\", FutureWarning)\n"
     ]
    },
    {
     "data": {
      "text/plain": [
       "0.9994435169727324"
      ]
     },
     "execution_count": 15,
     "metadata": {},
     "output_type": "execute_result"
    }
   ],
   "source": [
    "from sklearn.ensemble import RandomForestClassifier as RandomForest\n",
    "\n",
    "predicted = RandomForest(#n_estimators=10,  # n_estimators will change from 10 to 100 in the next version\n",
    "                         random_state=0).fit(X, y).predict(X)\n",
    "\n",
    "accuracy = metrics.accuracy_score(expected, predicted)\n",
    "accuracy"
   ]
  },
  {
   "cell_type": "markdown",
   "metadata": {},
   "source": [
    "*(Obs: Se não definirmos o `n_estimator`, receberemos um aviso - `FutureWarning` - de que seu valor default irá mudar em breve.)*"
   ]
  },
  {
   "cell_type": "markdown",
   "metadata": {},
   "source": [
    "- **Boosting Methods: A impulsão do revesamento!**"
   ]
  },
  {
   "cell_type": "code",
   "execution_count": 16,
   "metadata": {},
   "outputs": [
    {
     "data": {
      "text/plain": [
       "0.2654424040066778"
      ]
     },
     "execution_count": 16,
     "metadata": {},
     "output_type": "execute_result"
    }
   ],
   "source": [
    "from sklearn.ensemble import AdaBoostClassifier as AdaBoost, GradientBoostingClassifier as GradientBoosting\n",
    "\n",
    "predicted = AdaBoost().fit(X, y).predict(X)\n",
    "\n",
    "accuracy = metrics.accuracy_score(expected, predicted)\n",
    "accuracy"
   ]
  },
  {
   "cell_type": "code",
   "execution_count": 17,
   "metadata": {},
   "outputs": [
    {
     "data": {
      "text/plain": [
       "1.0"
      ]
     },
     "execution_count": 17,
     "metadata": {},
     "output_type": "execute_result"
    }
   ],
   "source": [
    "predicted = GradientBoosting().fit(X, y).predict(X)\n",
    "\n",
    "accuracy = metrics.accuracy_score(expected, predicted)\n",
    "accuracy"
   ]
  },
  {
   "cell_type": "markdown",
   "metadata": {},
   "source": [
    "##### SDG - Stochastic Gradient Descent Classifier: Descendo o desfiladeiro!"
   ]
  },
  {
   "cell_type": "code",
   "execution_count": 18,
   "metadata": {},
   "outputs": [
    {
     "data": {
      "text/plain": [
       "0.9838619922092376"
      ]
     },
     "execution_count": 18,
     "metadata": {},
     "output_type": "execute_result"
    }
   ],
   "source": [
    "from sklearn.linear_model import SGDClassifier as SGD\n",
    "\n",
    "predicted = SGD(loss='squared_hinge',# (default) 'hinge'=linear-SVM | 'log'=logistic regression | squared_hinge ...\n",
    "                max_iter=1000,\n",
    "                tol=1e-3, # loss > previous_loss - tol\n",
    "                penalty='none', # test others like: l2, l1\n",
    "                random_state=0).fit(X, y).predict(X)\n",
    "\n",
    "accuracy = metrics.accuracy_score(expected, predicted)\n",
    "accuracy"
   ]
  },
  {
   "cell_type": "markdown",
   "metadata": {},
   "source": [
    "##### MLP - Multilayer Perceptron: Ativando os neurônios!"
   ]
  },
  {
   "cell_type": "code",
   "execution_count": 19,
   "metadata": {},
   "outputs": [
    {
     "data": {
      "text/plain": [
       "1.0"
      ]
     },
     "execution_count": 19,
     "metadata": {},
     "output_type": "execute_result"
    }
   ],
   "source": [
    "from sklearn.neural_network import MLPClassifier as MLP\n",
    "\n",
    "predicted = MLP().fit(X, y).predict(X)\n",
    "\n",
    "accuracy = metrics.accuracy_score(expected, predicted)\n",
    "accuracy"
   ]
  },
  {
   "cell_type": "markdown",
   "metadata": {},
   "source": [
    "\n",
    "\n",
    "# Parabéns!! Você criou os principais classificadores, até uma Rede Neural!!\n",
    "\n",
    "\n"
   ]
  },
  {
   "cell_type": "markdown",
   "metadata": {},
   "source": [
    "---\n",
    "\n",
    "### Para saber mais...\n",
    "\n",
    "Dataset:\n",
    "https://scikit-learn.org/stable/modules/generated/sklearn.datasets.load_digits.html#sklearn.datasets.load_digits\n",
    "\n",
    "Outros classificadores:\n",
    "- https://www.kaggle.com/jeffd23/10-classifier-showdown-in-scikit-learn\n",
    "- https://scikit-learn.org/stable/auto_examples/classification/plot_classifier_comparison.html\n",
    "\n",
    "Visualização da Árvore de Decissão:\n",
    "https://towardsdatascience.com/how-to-visualize-a-decision-tree-from-a-random-forest-in-python-using-scikit-learn-38ad2d75f21c\n",
    "\n",
    "Tutorial que usei de base para esta lição:\n",
    "https://scikit-learn.org/stable/auto_examples/classification/plot_digits_classification.html#sphx-glr-auto-examples-classification-plot-digits-classification-py"
   ]
  },
  {
   "cell_type": "markdown",
   "metadata": {},
   "source": [
    "### Dicas de execução\n",
    "Uma forma bem simples de executar este Notebook é usando o Google Colab: https://colab.research.google.com/\n",
    "\n",
    "Se for utilizar sua máquina, lembre de intalar o Python 3 (eu usei o 3.7) e as dependências:\n",
    "- NumPy\n",
    "- Scikit-learn\n",
    "- Jupyter Notebook\n",
    "\n",
    "Sugiro instalar tanto o python quanto as dependências via [Anaconda](https://www.anaconda.com/distribution/#download-section) (ou [MiniConda](https://conda.io/en/latest/miniconda.html)) criando um Environment."
   ]
  }
 ],
 "metadata": {
  "kernelspec": {
   "display_name": "Python 3",
   "language": "python",
   "name": "python3"
  },
  "language_info": {
   "codemirror_mode": {
    "name": "ipython",
    "version": 3
   },
   "file_extension": ".py",
   "mimetype": "text/x-python",
   "name": "python",
   "nbconvert_exporter": "python",
   "pygments_lexer": "ipython3",
   "version": "3.7.2"
  }
 },
 "nbformat": 4,
 "nbformat_minor": 1
}
