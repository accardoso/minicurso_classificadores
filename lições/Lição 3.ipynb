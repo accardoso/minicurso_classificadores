{
 "cells": [
  {
   "cell_type": "markdown",
   "metadata": {},
   "source": [
    "# Minicurso Classificadores\n",
    "\n",
    "## Lição 3: Otimizando os parâmetros...\n",
    "\n",
    "### Reconhecendo números de 0 a 9 escritos a mão"
   ]
  },
  {
   "cell_type": "markdown",
   "metadata": {},
   "source": [
    "#### Importando dependências e setup"
   ]
  },
  {
   "cell_type": "code",
   "execution_count": 1,
   "metadata": {},
   "outputs": [],
   "source": [
    "# Import datasets, and ML algorithms\n",
    "from sklearn import datasets, metrics\n",
    "from sklearn.model_selection import train_test_split, GridSearchCV, RandomizedSearchCV\n",
    "from sklearn.svm import SVC\n",
    "\n",
    "# Import Numeric library\n",
    "import numpy as np\n",
    "\n",
    "# Import plotting library\n",
    "import matplotlib.pyplot as plt\n",
    "\n",
    "# Set plot to be show inside the notebook\n",
    "%matplotlib inline"
   ]
  },
  {
   "cell_type": "code",
   "execution_count": 2,
   "metadata": {},
   "outputs": [],
   "source": [
    "# Set the random seed to reproducibility\n",
    "import random\n",
    "random.seed(0)"
   ]
  },
  {
   "cell_type": "markdown",
   "metadata": {},
   "source": [
    "#### Preparando os dados"
   ]
  },
  {
   "cell_type": "code",
   "execution_count": 3,
   "metadata": {},
   "outputs": [
    {
     "data": {
      "text/plain": [
       "array([[ 0.,  0.,  5., ...,  0.,  0.,  0.],\n",
       "       [ 0.,  0.,  0., ..., 10.,  0.,  0.],\n",
       "       [ 0.,  0.,  0., ..., 16.,  9.,  0.],\n",
       "       ...,\n",
       "       [ 0.,  0.,  1., ...,  6.,  0.,  0.],\n",
       "       [ 0.,  0.,  2., ..., 12.,  0.,  0.],\n",
       "       [ 0.,  0., 10., ..., 12.,  1.,  0.]])"
      ]
     },
     "execution_count": 3,
     "metadata": {},
     "output_type": "execute_result"
    }
   ],
   "source": [
    "digits = datasets.load_digits()\n",
    "\n",
    "n_samples = len(digits.images)\n",
    "\n",
    "X = digits.images.reshape((n_samples, -1))\n",
    "X"
   ]
  },
  {
   "cell_type": "code",
   "execution_count": 4,
   "metadata": {},
   "outputs": [
    {
     "data": {
      "text/plain": [
       "array([0, 1, 2, ..., 8, 9, 8])"
      ]
     },
     "execution_count": 4,
     "metadata": {},
     "output_type": "execute_result"
    }
   ],
   "source": [
    "y = digits.target\n",
    "y"
   ]
  },
  {
   "cell_type": "markdown",
   "metadata": {},
   "source": [
    "#### Afinando os parâmetros"
   ]
  },
  {
   "cell_type": "markdown",
   "metadata": {},
   "source": [
    "##### Testanto todas as combinações"
   ]
  },
  {
   "cell_type": "code",
   "execution_count": 5,
   "metadata": {
    "scrolled": true
   },
   "outputs": [
    {
     "data": {
      "text/plain": [
       "SVC(C=10, cache_size=200, class_weight=None, coef0=0.0,\n",
       "  decision_function_shape='ovr', degree=3, gamma='scale', kernel='rbf',\n",
       "  max_iter=-1, probability=False, random_state=None, shrinking=True,\n",
       "  tol=0.001, verbose=False)"
      ]
     },
     "execution_count": 5,
     "metadata": {},
     "output_type": "execute_result"
    }
   ],
   "source": [
    "# Read about the parameter at: https://scikit-learn.org/stable/modules/generated/sklearn.svm.SVC.html\n",
    "svc = SVC(gamma='scale')\n",
    "\n",
    "parameters = {'kernel':('linear', 'rbf'), 'C':[1, 10]}\n",
    "clf = GridSearchCV(svc, parameters, cv=3)\n",
    "\n",
    "clf.fit(X, y)\n",
    "clf.best_estimator_"
   ]
  },
  {
   "cell_type": "code",
   "execution_count": 6,
   "metadata": {},
   "outputs": [
    {
     "data": {
      "text/plain": [
       "array([0, 1, 2, ..., 8, 9, 8])"
      ]
     },
     "execution_count": 6,
     "metadata": {},
     "output_type": "execute_result"
    }
   ],
   "source": [
    "clf.predict(X)"
   ]
  },
  {
   "cell_type": "code",
   "execution_count": 7,
   "metadata": {},
   "outputs": [
    {
     "data": {
      "text/plain": [
       "1.0"
      ]
     },
     "execution_count": 7,
     "metadata": {},
     "output_type": "execute_result"
    }
   ],
   "source": [
    "clf.score(X,y)"
   ]
  },
  {
   "cell_type": "markdown",
   "metadata": {},
   "source": [
    "##### Testanto aleatóriamente"
   ]
  },
  {
   "cell_type": "code",
   "execution_count": 8,
   "metadata": {},
   "outputs": [
    {
     "data": {
      "text/plain": [
       "SVC(C=100, cache_size=200, class_weight=None, coef0=0.0,\n",
       "  decision_function_shape='ovr', degree=3, gamma='scale', kernel='rbf',\n",
       "  max_iter=-1, probability=False, random_state=None, shrinking=True,\n",
       "  tol=1e-06, verbose=False)"
      ]
     },
     "execution_count": 8,
     "metadata": {},
     "output_type": "execute_result"
    }
   ],
   "source": [
    "parameters = {\n",
    "    'kernel':('linear', 'rbf', 'poly', 'sigmoid'),\n",
    "    'C': [10**x for x in range(0,5)],\n",
    "    'gamma': ('auto', 'scale', 0.0001),\n",
    "    'tol': (1e-3, 1e-6, 1e-9), # Tolerance for stopping criterion.\n",
    "    }\n",
    "\n",
    "clf = RandomizedSearchCV(SVC(), parameters, cv=3)\n",
    "\n",
    "clf.fit(X, y)\n",
    "clf.best_estimator_"
   ]
  },
  {
   "cell_type": "code",
   "execution_count": 9,
   "metadata": {},
   "outputs": [
    {
     "data": {
      "text/plain": [
       "array([0, 1, 2, ..., 8, 9, 8])"
      ]
     },
     "execution_count": 9,
     "metadata": {},
     "output_type": "execute_result"
    }
   ],
   "source": [
    "clf.predict(X)"
   ]
  },
  {
   "cell_type": "code",
   "execution_count": 10,
   "metadata": {},
   "outputs": [
    {
     "data": {
      "text/plain": [
       "1.0"
      ]
     },
     "execution_count": 10,
     "metadata": {},
     "output_type": "execute_result"
    }
   ],
   "source": [
    "clf.score(X,y)"
   ]
  },
  {
   "cell_type": "markdown",
   "metadata": {},
   "source": [
    "#### Otimizando e Testando"
   ]
  },
  {
   "cell_type": "markdown",
   "metadata": {},
   "source": [
    "Se utilizarmos a mesma base para afinar (*tunar*) os parâmetros e avaliar estamos caindo no mesmo problema de quando usavamos a mesma base para treinar e testar."
   ]
  },
  {
   "cell_type": "markdown",
   "metadata": {},
   "source": [
    "![train_validation_test.png](https://cdn-images-1.medium.com/max/720/1*4G__SV580CxFj78o9yUXuQ.png)\n",
    "\n",
    "*(Imagem obtida em: https://towardsdatascience.com/train-test-split-and-cross-validation-in-python-80b61beca4b6)*"
   ]
  },
  {
   "cell_type": "markdown",
   "metadata": {},
   "source": [
    "##### Treinando e Validando"
   ]
  },
  {
   "cell_type": "code",
   "execution_count": 11,
   "metadata": {},
   "outputs": [
    {
     "name": "stdout",
     "output_type": "stream",
     "text": [
      "(1437, 64) (1437,)\n",
      "(360, 64) (360,)\n"
     ]
    }
   ],
   "source": [
    "X_train, X_test, y_train, y_test = train_test_split(X,\n",
    "                                                    y,\n",
    "                                                    stratify=y,\n",
    "                                                    test_size=0.20) # Valores comum: .2, .25 e .3.\n",
    "\n",
    "print(X_train.shape, y_train.shape)\n",
    "print(X_test.shape, y_test.shape)"
   ]
  },
  {
   "cell_type": "code",
   "execution_count": 12,
   "metadata": {},
   "outputs": [
    {
     "data": {
      "text/plain": [
       "SVC(C=10, cache_size=200, class_weight=None, coef0=0.0,\n",
       "  decision_function_shape='ovr', degree=3, gamma='scale', kernel='rbf',\n",
       "  max_iter=-1, probability=True, random_state=None, shrinking=True,\n",
       "  tol=0.001, verbose=False)"
      ]
     },
     "execution_count": 12,
     "metadata": {},
     "output_type": "execute_result"
    }
   ],
   "source": [
    "svc = SVC(gamma='scale', probability=True)\n",
    "\n",
    "parameters = {'C':[1, 10]}\n",
    "clf = GridSearchCV(svc, parameters, cv=3, scoring='f1_macro')  # n_jobs=-1\n",
    "\n",
    "clf.fit(X_train, y_train)\n",
    "\n",
    "clf.best_estimator_"
   ]
  },
  {
   "cell_type": "code",
   "execution_count": 13,
   "metadata": {},
   "outputs": [
    {
     "data": {
      "text/plain": [
       "1.0"
      ]
     },
     "execution_count": 13,
     "metadata": {},
     "output_type": "execute_result"
    }
   ],
   "source": [
    "clf.score(X_train,y_train)"
   ]
  },
  {
   "cell_type": "markdown",
   "metadata": {},
   "source": [
    "##### Testando"
   ]
  },
  {
   "cell_type": "code",
   "execution_count": 14,
   "metadata": {
    "scrolled": true
   },
   "outputs": [
    {
     "data": {
      "text/plain": [
       "array([7, 2, 8, 5, 4, 2, 0, 6, 0, 9, 0, 5, 7, 6, 8, 0, 9, 7, 4, 1, 5, 3,\n",
       "       1, 1, 2, 4, 2, 3, 9, 2, 2, 8, 6, 1, 5, 3, 1, 6, 3, 8, 9, 6, 9, 2,\n",
       "       1, 1, 9, 3, 5, 7, 3, 6, 7, 2, 7, 4, 0, 3, 2, 0, 8, 9, 3, 1, 0, 9,\n",
       "       8, 3, 4, 5, 8, 3, 4, 0, 5, 5, 8, 1, 2, 1, 0, 6, 1, 8, 8, 7, 0, 3,\n",
       "       1, 1, 2, 3, 1, 8, 1, 2, 0, 6, 0, 5, 2, 2, 3, 2, 3, 6, 6, 6, 8, 5,\n",
       "       5, 9, 7, 0, 5, 3, 6, 1, 8, 7, 2, 2, 2, 7, 6, 8, 4, 7, 5, 3, 7, 3,\n",
       "       7, 1, 6, 7, 4, 9, 5, 7, 1, 6, 5, 5, 0, 1, 8, 8, 6, 5, 0, 2, 1, 0,\n",
       "       3, 0, 3, 7, 9, 4, 5, 7, 7, 7, 9, 5, 9, 0, 5, 7, 3, 6, 7, 0, 9, 0,\n",
       "       9, 0, 8, 4, 3, 9, 6, 1, 9, 0, 4, 5, 0, 0, 8, 3, 2, 7, 7, 3, 8, 6,\n",
       "       5, 4, 6, 1, 8, 6, 2, 4, 2, 8, 5, 1, 2, 4, 9, 0, 6, 0, 2, 4, 4, 9,\n",
       "       1, 4, 3, 5, 3, 4, 5, 1, 5, 8, 4, 6, 1, 4, 0, 5, 2, 1, 3, 6, 4, 1,\n",
       "       9, 7, 5, 2, 0, 9, 5, 2, 9, 7, 7, 8, 4, 7, 8, 3, 4, 7, 4, 6, 8, 6,\n",
       "       8, 6, 0, 6, 1, 1, 3, 7, 4, 6, 4, 9, 7, 8, 5, 4, 8, 4, 9, 8, 4, 9,\n",
       "       3, 6, 6, 2, 9, 3, 3, 9, 4, 3, 2, 5, 4, 4, 0, 8, 1, 8, 4, 4, 1, 4,\n",
       "       5, 8, 0, 9, 2, 5, 9, 1, 3, 5, 7, 0, 2, 9, 7, 3, 6, 1, 6, 1, 3, 3,\n",
       "       9, 6, 7, 9, 7, 7, 2, 7, 0, 8, 5, 1, 5, 0, 4, 5, 6, 1, 7, 5, 2, 0,\n",
       "       9, 2, 0, 8, 6, 2, 9, 9])"
      ]
     },
     "execution_count": 14,
     "metadata": {},
     "output_type": "execute_result"
    }
   ],
   "source": [
    "clf.predict(X_test)"
   ]
  },
  {
   "cell_type": "code",
   "execution_count": 15,
   "metadata": {},
   "outputs": [
    {
     "data": {
      "text/plain": [
       "array([[1.07746459e-03, 1.22470203e-03, 1.77261555e-03, ...,\n",
       "        9.84780094e-01, 2.38421611e-03, 1.95832628e-03],\n",
       "       [6.68019409e-04, 7.11799369e-04, 9.92480215e-01, ...,\n",
       "        7.64450798e-04, 9.57052679e-04, 1.12664396e-03],\n",
       "       [4.99215684e-03, 1.12554332e-02, 3.34424458e-02, ...,\n",
       "        2.32410576e-02, 8.53737150e-01, 2.09424705e-02],\n",
       "       ...,\n",
       "       [1.30408336e-04, 3.40117228e-05, 9.99416466e-01, ...,\n",
       "        4.93221796e-05, 4.58270267e-05, 4.95785682e-05],\n",
       "       [3.44441367e-03, 2.33658896e-03, 3.75668912e-03, ...,\n",
       "        3.82838496e-03, 2.03136529e-02, 9.24281849e-01],\n",
       "       [9.24229521e-03, 1.88969385e-02, 3.12982949e-02, ...,\n",
       "        3.33232970e-02, 4.14095834e-02, 5.59787653e-01]])"
      ]
     },
     "execution_count": 15,
     "metadata": {},
     "output_type": "execute_result"
    }
   ],
   "source": [
    "# For each sample the probability for each class\n",
    "probas = clf.predict_proba(X_test)\n",
    "probas"
   ]
  },
  {
   "cell_type": "code",
   "execution_count": 16,
   "metadata": {},
   "outputs": [
    {
     "data": {
      "text/plain": [
       "array([0.00107746, 0.0012247 , 0.00177262, 0.00172237, 0.00180767,\n",
       "       0.00174481, 0.00152773, 0.98478009, 0.00238422, 0.00195833])"
      ]
     },
     "execution_count": 16,
     "metadata": {},
     "output_type": "execute_result"
    }
   ],
   "source": [
    "# Let's take a look at the probabilities for the 1st predict sample:\n",
    "probas[0]"
   ]
  },
  {
   "cell_type": "code",
   "execution_count": 17,
   "metadata": {},
   "outputs": [
    {
     "data": {
      "text/plain": [
       "0.9916993515590266"
      ]
     },
     "execution_count": 17,
     "metadata": {},
     "output_type": "execute_result"
    }
   ],
   "source": [
    "clf.score(X_test,y_test)"
   ]
  },
  {
   "cell_type": "markdown",
   "metadata": {},
   "source": [
    "---\n",
    "\n",
    "### Para saber mais...\n",
    "\n",
    "Dataset:\n",
    "https://scikit-learn.org/stable/modules/generated/sklearn.datasets.load_digits.html#sklearn.datasets.load_digits\n",
    "\n",
    "Outros datasets para treinar:\n",
    "https://scikit-learn.org/stable/datasets/index.html\n",
    "\n",
    "Tutorial que usei de base para esta lição:\n",
    "- https://scikit-learn.org/stable/auto_examples/classification/plot_digits_classification.html#sphx-glr-auto-examples-classification-plot-digits-classification-py"
   ]
  },
  {
   "cell_type": "markdown",
   "metadata": {},
   "source": [
    "### Dica de execução\n",
    "\n",
    "Uma forma bem simples de executar este Notebook é usando o Google Colab: https://colab.research.google.com/\n",
    "\n",
    "Se for utilizar sua máquina, lembre de intalar o Python 3 (eu usei o 3.7) e as dependências:\n",
    "- NumPy\n",
    "- Scikit-learn\n",
    "- Jupyter Notebook\n",
    "- Matplotlib\n",
    "\n",
    "Sugiro instalar tanto o python quanto as dependências via [Anaconda](https://www.anaconda.com/distribution/#download-section) (ou [MiniConda](https://conda.io/en/latest/miniconda.html)) criando um Environment."
   ]
  }
 ],
 "metadata": {
  "kernelspec": {
   "display_name": "Python 3",
   "language": "python",
   "name": "python3"
  },
  "language_info": {
   "codemirror_mode": {
    "name": "ipython",
    "version": 3
   },
   "file_extension": ".py",
   "mimetype": "text/x-python",
   "name": "python",
   "nbconvert_exporter": "python",
   "pygments_lexer": "ipython3",
   "version": "3.7.2"
  }
 },
 "nbformat": 4,
 "nbformat_minor": 1
}
