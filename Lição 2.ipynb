{
 "cells": [
  {
   "cell_type": "markdown",
   "metadata": {},
   "source": [
    "# Minicurso Classificadores\n",
    "\n",
    "## Lição 2: Validando, avaliando e comparando...\n",
    "\n",
    "### Reconhecendo números de 0 a 9 escritos a mão"
   ]
  },
  {
   "cell_type": "markdown",
   "metadata": {},
   "source": [
    "#### Importando dependências e setup"
   ]
  },
  {
   "cell_type": "code",
   "execution_count": 1,
   "metadata": {},
   "outputs": [],
   "source": [
    "# Import datasets, and ML algorithms\n",
    "from sklearn import datasets, metrics\n",
    "\n",
    "from sklearn.model_selection import train_test_split, cross_val_score, cross_validate, KFold, StratifiedKFold\n",
    "\n",
    "from sklearn.svm import SVC\n",
    "from sklearn.neighbors import KNeighborsClassifier as KNN\n",
    "from sklearn.linear_model import LogisticRegression\n",
    "from sklearn.naive_bayes import GaussianNB\n",
    "from sklearn.tree import DecisionTreeClassifier as DecisionTree\n",
    "from sklearn.ensemble import RandomForestClassifier as RandomForest\n",
    "from sklearn.ensemble import AdaBoostClassifier as AdaBoost, GradientBoostingClassifier as GradientBoosting\n",
    "\n",
    "# Import numeric library\n",
    "import numpy as np\n",
    "\n",
    "# Import plotting library\n",
    "import matplotlib.pyplot as plt\n",
    "\n",
    "# Set plot to be show inside the notebook\n",
    "%matplotlib inline"
   ]
  },
  {
   "cell_type": "code",
   "execution_count": 2,
   "metadata": {},
   "outputs": [],
   "source": [
    "# Set the random seed to reproducibility\n",
    "import random\n",
    "random.seed(0)"
   ]
  },
  {
   "cell_type": "markdown",
   "metadata": {},
   "source": [
    "#### Preparando os dados"
   ]
  },
  {
   "cell_type": "code",
   "execution_count": 3,
   "metadata": {},
   "outputs": [
    {
     "data": {
      "text/plain": [
       "array([[ 0.,  0.,  5., ...,  0.,  0.,  0.],\n",
       "       [ 0.,  0.,  0., ..., 10.,  0.,  0.],\n",
       "       [ 0.,  0.,  0., ..., 16.,  9.,  0.],\n",
       "       ...,\n",
       "       [ 0.,  0.,  1., ...,  6.,  0.,  0.],\n",
       "       [ 0.,  0.,  2., ..., 12.,  0.,  0.],\n",
       "       [ 0.,  0., 10., ..., 12.,  1.,  0.]])"
      ]
     },
     "execution_count": 3,
     "metadata": {},
     "output_type": "execute_result"
    }
   ],
   "source": [
    "digits = datasets.load_digits()\n",
    "\n",
    "n_samples = len(digits.images)\n",
    "\n",
    "X = digits.images.reshape((n_samples, -1))\n",
    "X"
   ]
  },
  {
   "cell_type": "code",
   "execution_count": 4,
   "metadata": {},
   "outputs": [
    {
     "data": {
      "text/plain": [
       "array([0, 1, 2, ..., 8, 9, 8])"
      ]
     },
     "execution_count": 4,
     "metadata": {},
     "output_type": "execute_result"
    }
   ],
   "source": [
    "y = digits.target\n",
    "y"
   ]
  },
  {
   "cell_type": "markdown",
   "metadata": {},
   "source": [
    "#### Separando em Treinamento e Teste"
   ]
  },
  {
   "cell_type": "markdown",
   "metadata": {},
   "source": [
    "Antes de separar a base, vamos criar uma função para visualizar a proporção de cada classe nas bases separadas:"
   ]
  },
  {
   "cell_type": "code",
   "execution_count": 5,
   "metadata": {},
   "outputs": [],
   "source": [
    "def plot_proportion(y):\n",
    "    uniques, counts = np.unique(y, return_counts=True)\n",
    "\n",
    "    plt.barh(uniques, counts/len(y));\n",
    "\n",
    "    plt.title('Samples of each class');\n",
    "    plt.yticks(uniques);\n",
    "    plt.ylabel('Classes');\n",
    "    plt.xlabel('Proportion');"
   ]
  },
  {
   "cell_type": "markdown",
   "metadata": {},
   "source": [
    "Na lição passada fizemos da forma abaixo:"
   ]
  },
  {
   "cell_type": "code",
   "execution_count": 6,
   "metadata": {
    "scrolled": true
   },
   "outputs": [
    {
     "name": "stdout",
     "output_type": "stream",
     "text": [
      "X_train: 898 x 64\n",
      "y_train: 898\n"
     ]
    },
    {
     "data": {
      "image/png": "[encoded data removed]",
      "text/plain": [
       "<Figure size 432x288 with 1 Axes>"
      ]
     },
     "metadata": {
      "needs_background": "light"
     },
     "output_type": "display_data"
    }
   ],
   "source": [
    "# We learn the digits on the first half of the digits\n",
    "X_train = X[:n_samples // 2]\n",
    "y_train = y[:n_samples // 2]\n",
    "\n",
    "print('X_train: {} x {}'.format(*X_train.shape))\n",
    "print('y_train: {}'.format(*y_train.shape))\n",
    "\n",
    "plot_proportion(y_train)"
   ]
  },
  {
   "cell_type": "code",
   "execution_count": 7,
   "metadata": {},
   "outputs": [
    {
     "name": "stdout",
     "output_type": "stream",
     "text": [
      "X_test: 899 x 64\n",
      "y_test: 899\n"
     ]
    },
    {
     "data": {
      "image/png": "[encoded data removed]",
      "text/plain": [
       "<Figure size 432x288 with 1 Axes>"
      ]
     },
     "metadata": {
      "needs_background": "light"
     },
     "output_type": "display_data"
    }
   ],
   "source": [
    "X_test = X[n_samples // 2:]\n",
    "y_test = y[n_samples // 2:]\n",
    "\n",
    "print('X_test: {} x {}'.format(*X_test.shape))\n",
    "print('y_test: {}'.format(*y_test.shape))\n",
    "\n",
    "plot_proportion(y_test)"
   ]
  },
  {
   "cell_type": "markdown",
   "metadata": {},
   "source": [
    "Mas existem formas mais fáceis de fazer isto:"
   ]
  },
  {
   "cell_type": "code",
   "execution_count": 8,
   "metadata": {},
   "outputs": [
    {
     "name": "stdout",
     "output_type": "stream",
     "text": [
      "(898, 64) (898,)\n",
      "(899, 64) (899,)\n"
     ]
    }
   ],
   "source": [
    "X_train, X_test, y_train, y_test = train_test_split(X, y, test_size=0.50)\n",
    "\n",
    "print(X_train.shape, y_train.shape)\n",
    "print(X_test.shape, y_test.shape)"
   ]
  },
  {
   "cell_type": "code",
   "execution_count": 9,
   "metadata": {},
   "outputs": [
    {
     "data": {
      "image/png": "[encoded data removed]",
      "text/plain": [
       "<Figure size 432x288 with 1 Axes>"
      ]
     },
     "metadata": {
      "needs_background": "light"
     },
     "output_type": "display_data"
    }
   ],
   "source": [
    "plot_proportion(y_train)"
   ]
  },
  {
   "cell_type": "code",
   "execution_count": 10,
   "metadata": {},
   "outputs": [
    {
     "data": {
      "image/png": "[encoded data removed]",
      "text/plain": [
       "<Figure size 432x288 with 1 Axes>"
      ]
     },
     "metadata": {
      "needs_background": "light"
     },
     "output_type": "display_data"
    }
   ],
   "source": [
    "plot_proportion(y_test)"
   ]
  },
  {
   "cell_type": "markdown",
   "metadata": {},
   "source": [
    "50% a 50%, está ficando pouco para o treinamento!"
   ]
  },
  {
   "cell_type": "code",
   "execution_count": 11,
   "metadata": {},
   "outputs": [
    {
     "name": "stdout",
     "output_type": "stream",
     "text": [
      "(1437, 64) (1437,)\n",
      "(360, 64) (360,)\n"
     ]
    }
   ],
   "source": [
    "X_train, X_test, y_train, y_test = train_test_split(X, y, test_size=0.20) # Valores comum: .2, .25 e .3.\n",
    "\n",
    "print(X_train.shape, y_train.shape)\n",
    "print(X_test.shape, y_test.shape)"
   ]
  },
  {
   "cell_type": "code",
   "execution_count": 12,
   "metadata": {},
   "outputs": [
    {
     "data": {
      "image/png": "[encoded data removed]",
      "text/plain": [
       "<Figure size 432x288 with 1 Axes>"
      ]
     },
     "metadata": {
      "needs_background": "light"
     },
     "output_type": "display_data"
    }
   ],
   "source": [
    "plot_proportion(y_train)"
   ]
  },
  {
   "cell_type": "code",
   "execution_count": 13,
   "metadata": {},
   "outputs": [
    {
     "data": {
      "image/png": "[encoded data removed]",
      "text/plain": [
       "<Figure size 432x288 with 1 Axes>"
      ]
     },
     "metadata": {
      "needs_background": "light"
     },
     "output_type": "display_data"
    }
   ],
   "source": [
    "plot_proportion(y_test)"
   ]
  },
  {
   "cell_type": "markdown",
   "metadata": {},
   "source": [
    "#### Treinando e Classificando"
   ]
  },
  {
   "cell_type": "code",
   "execution_count": 14,
   "metadata": {},
   "outputs": [
    {
     "data": {
      "text/plain": [
       "array([3, 3, 5, 5, 2, 0, 3, 8, 5, 0, 0, 0, 1, 3, 8, 2, 0, 2, 2, 3, 7, 0,\n",
       "       7, 2, 1, 4, 4, 1, 5, 6, 6, 2, 3, 6, 2, 4, 1, 9, 7, 3, 6, 6, 0, 9,\n",
       "       0, 9, 5, 9, 1, 5, 5, 9, 6, 0, 6, 5, 3, 0, 2, 7, 5, 3, 0, 8, 2, 9,\n",
       "       0, 7, 5, 8, 9, 0, 3, 7, 6, 3, 2, 5, 1, 7, 1, 3, 4, 1, 8, 2, 9, 1,\n",
       "       9, 3, 4, 4, 5, 0, 9, 3, 3, 0, 7, 9, 8, 5, 8, 9, 4, 5, 6, 8, 1, 0,\n",
       "       1, 9, 9, 7, 2, 4, 5, 1, 3, 0, 5, 9, 9, 5, 6, 3, 1, 3, 1, 2, 1, 1,\n",
       "       8, 0, 6, 2, 5, 1, 3, 5, 0, 9, 0, 3, 3, 9, 8, 4, 5, 3, 1, 1, 0, 6,\n",
       "       4, 9, 0, 8, 0, 8, 5, 9, 4, 0, 4, 3, 5, 8, 8, 1, 9, 2, 9, 0, 1, 7,\n",
       "       5, 0, 2, 8, 2, 3, 4, 6, 9, 4, 7, 8, 6, 8, 5, 2, 7, 9, 8, 5, 5, 5,\n",
       "       7, 3, 1, 4, 5, 6, 4, 9, 7, 8, 1, 0, 0, 9, 8, 7, 9, 9, 0, 6, 8, 9,\n",
       "       3, 5, 8, 9, 2, 4, 8, 7, 9, 2, 6, 9, 6, 8, 3, 3, 2, 0, 6, 3, 8, 2,\n",
       "       1, 4, 7, 7, 4, 8, 4, 5, 2, 3, 0, 8, 6, 3, 7, 1, 8, 4, 2, 7, 9, 1,\n",
       "       6, 3, 9, 3, 1, 5, 0, 1, 5, 7, 1, 3, 4, 3, 9, 9, 1, 0, 7, 9, 5, 5,\n",
       "       2, 4, 6, 0, 8, 2, 7, 6, 9, 0, 2, 5, 9, 2, 4, 3, 6, 7, 4, 2, 8, 7,\n",
       "       7, 7, 0, 3, 8, 8, 6, 7, 3, 8, 6, 6, 5, 6, 7, 4, 6, 2, 2, 3, 6, 0,\n",
       "       6, 1, 9, 4, 6, 2, 3, 8, 0, 8, 2, 7, 0, 4, 5, 5, 0, 7, 2, 7, 2, 6,\n",
       "       1, 1, 1, 1, 3, 4, 5, 6])"
      ]
     },
     "execution_count": 14,
     "metadata": {},
     "output_type": "execute_result"
    }
   ],
   "source": [
    "clf = SVC(gamma='scale')\n",
    "\n",
    "clf.fit(X_train, y_train)\n",
    "\n",
    "expected = y_test\n",
    "predicted = clf.predict(X_test)\n",
    "predicted"
   ]
  },
  {
   "cell_type": "code",
   "execution_count": 15,
   "metadata": {},
   "outputs": [
    {
     "data": {
      "text/plain": [
       "0.9944444444444445"
      ]
     },
     "execution_count": 15,
     "metadata": {},
     "output_type": "execute_result"
    }
   ],
   "source": [
    "accuracy = metrics.accuracy_score(expected, predicted)\n",
    "accuracy"
   ]
  },
  {
   "cell_type": "markdown",
   "metadata": {},
   "source": [
    "Uma outra forma de obter o score do classificador é:"
   ]
  },
  {
   "cell_type": "code",
   "execution_count": 16,
   "metadata": {},
   "outputs": [
    {
     "data": {
      "text/plain": [
       "0.9944444444444445"
      ]
     },
     "execution_count": 16,
     "metadata": {},
     "output_type": "execute_result"
    }
   ],
   "source": [
    "clf.score(X_test, y_test)"
   ]
  },
  {
   "cell_type": "markdown",
   "metadata": {},
   "source": [
    "Podemos visualizar os acertos e erros com um gráfico de dispersão entre o esperado e o predito:"
   ]
  },
  {
   "cell_type": "code",
   "execution_count": 17,
   "metadata": {},
   "outputs": [
    {
     "data": {
      "image/png": "[encoded data removed]",
      "text/plain": [
       "<Figure size 432x288 with 1 Axes>"
      ]
     },
     "metadata": {
      "needs_background": "light"
     },
     "output_type": "display_data"
    }
   ],
   "source": [
    "plt.scatter(expected, predicted)\n",
    "\n",
    "plt.xlabel('Expected');\n",
    "plt.xticks(digits.target_names);\n",
    "plt.ylabel('Predicted');\n",
    "plt.yticks(digits.target_names);"
   ]
  },
  {
   "cell_type": "markdown",
   "metadata": {},
   "source": [
    "#### Melhorando a divisão das bases de teste e treino usando estratificação"
   ]
  },
  {
   "cell_type": "code",
   "execution_count": 18,
   "metadata": {},
   "outputs": [
    {
     "name": "stdout",
     "output_type": "stream",
     "text": [
      "(1437, 64) (1437,)\n",
      "(360, 64) (360,)\n"
     ]
    }
   ],
   "source": [
    "X_train, X_test, y_train, y_test = train_test_split(X,\n",
    "                                                    y,\n",
    "                                                    stratify=y,\n",
    "                                                    test_size=0.20) # Valores comum: .2, .25 e .3.\n",
    "\n",
    "print(X_train.shape, y_train.shape)\n",
    "print(X_test.shape, y_test.shape)"
   ]
  },
  {
   "cell_type": "code",
   "execution_count": 19,
   "metadata": {},
   "outputs": [
    {
     "data": {
      "image/png": "[encoded data removed]",
      "text/plain": [
       "<Figure size 432x288 with 1 Axes>"
      ]
     },
     "metadata": {
      "needs_background": "light"
     },
     "output_type": "display_data"
    }
   ],
   "source": [
    "plot_proportion(y_train);"
   ]
  },
  {
   "cell_type": "code",
   "execution_count": 20,
   "metadata": {
    "scrolled": true
   },
   "outputs": [
    {
     "data": {
      "image/png": "[encoded data removed]",
      "text/plain": [
       "<Figure size 432x288 with 1 Axes>"
      ]
     },
     "metadata": {
      "needs_background": "light"
     },
     "output_type": "display_data"
    }
   ],
   "source": [
    "plot_proportion(y_test)"
   ]
  },
  {
   "cell_type": "code",
   "execution_count": 21,
   "metadata": {},
   "outputs": [
    {
     "data": {
      "text/plain": [
       "0.9916666666666667"
      ]
     },
     "execution_count": 21,
     "metadata": {},
     "output_type": "execute_result"
    }
   ],
   "source": [
    "clf = SVC(gamma='scale')\n",
    "\n",
    "clf.fit(X_train, y_train)\n",
    "\n",
    "expected = y_test\n",
    "predicted = clf.predict(X_test)\n",
    "\n",
    "accuracy = metrics.accuracy_score(expected, predicted)\n",
    "accuracy"
   ]
  },
  {
   "cell_type": "code",
   "execution_count": 22,
   "metadata": {},
   "outputs": [
    {
     "data": {
      "image/png": "[encoded data removed]",
      "text/plain": [
       "<Figure size 432x288 with 1 Axes>"
      ]
     },
     "metadata": {
      "needs_background": "light"
     },
     "output_type": "display_data"
    }
   ],
   "source": [
    "plt.scatter(expected, predicted)\n",
    "\n",
    "plt.xlabel('Expected');\n",
    "plt.xticks(digits.target_names);\n",
    "plt.ylabel('Predicted');\n",
    "plt.yticks(digits.target_names);"
   ]
  },
  {
   "cell_type": "markdown",
   "metadata": {},
   "source": [
    "#### Fazendo melhor ainda - K-fold Cross-validation"
   ]
  },
  {
   "cell_type": "markdown",
   "metadata": {},
   "source": [
    "![kfold](https://cdn-images-1.medium.com/max/720/1*J2B_bcbd1-s1kpWOu_FZrg.png)\n",
    "\n",
    "*(Imagem obtida em: https://towardsdatascience.com/train-test-split-and-cross-validation-in-python-80b61beca4b6)*"
   ]
  },
  {
   "cell_type": "markdown",
   "metadata": {},
   "source": [
    "Primeiro vamos definir o classificador"
   ]
  },
  {
   "cell_type": "code",
   "execution_count": 23,
   "metadata": {},
   "outputs": [],
   "source": [
    "clf = SVC(gamma='scale')"
   ]
  },
  {
   "cell_type": "markdown",
   "metadata": {},
   "source": [
    "Agora podemos treina-lo e valida-lo utilizando a técninca de validação cruzada por K-folds ( *folds = dobras ;)* ):"
   ]
  },
  {
   "cell_type": "code",
   "execution_count": 24,
   "metadata": {},
   "outputs": [
    {
     "data": {
      "text/plain": [
       "array([0.95016611, 0.96828047, 0.96644295])"
      ]
     },
     "metadata": {},
     "output_type": "display_data"
    },
    {
     "data": {
      "text/plain": [
       "0.9616298444742292"
      ]
     },
     "execution_count": 24,
     "metadata": {},
     "output_type": "execute_result"
    }
   ],
   "source": [
    "cv_scores = cross_val_score(clf, X, y, cv=3)\n",
    "\n",
    "display(cv_scores)\n",
    "cv_scores.mean()"
   ]
  },
  {
   "cell_type": "code",
   "execution_count": 25,
   "metadata": {},
   "outputs": [
    {
     "data": {
      "text/plain": [
       "array([0.95016611, 0.96828047, 0.96644295])"
      ]
     },
     "metadata": {},
     "output_type": "display_data"
    },
    {
     "data": {
      "text/plain": [
       "0.9616298444742292"
      ]
     },
     "execution_count": 25,
     "metadata": {},
     "output_type": "execute_result"
    }
   ],
   "source": [
    "cv_scores = cross_val_score(clf, X, y, cv=3, scoring='accuracy')\n",
    "\n",
    "display(cv_scores)\n",
    "cv_scores.mean()"
   ]
  },
  {
   "cell_type": "code",
   "execution_count": 26,
   "metadata": {},
   "outputs": [
    {
     "data": {
      "text/plain": [
       "array([0.95154219, 0.96835475, 0.96655357])"
      ]
     },
     "metadata": {},
     "output_type": "display_data"
    },
    {
     "data": {
      "text/plain": [
       "0.9621501707254922"
      ]
     },
     "execution_count": 26,
     "metadata": {},
     "output_type": "execute_result"
    }
   ],
   "source": [
    "cv_scores = cross_val_score(clf, X, y, cv=3, scoring='f1_macro')\n",
    "\n",
    "display(cv_scores)\n",
    "cv_scores.mean()"
   ]
  },
  {
   "cell_type": "markdown",
   "metadata": {},
   "source": [
    "Interessado em mais de uma métrica:"
   ]
  },
  {
   "cell_type": "code",
   "execution_count": 27,
   "metadata": {},
   "outputs": [
    {
     "data": {
      "text/plain": [
       "{'fit_time': array([0.23963356, 0.28075433, 0.23358417]),\n",
       " 'score_time': array([0.20053363, 0.20851684, 0.20554829]),\n",
       " 'test_accuracy': array([0.95016611, 0.96828047, 0.96644295]),\n",
       " 'train_accuracy': array([1., 1., 1.]),\n",
       " 'test_precision_macro': array([0.95933548, 0.96918181, 0.96752015]),\n",
       " 'train_precision_macro': array([1., 1., 1.]),\n",
       " 'test_recall_macro': array([0.95001616, 0.96815814, 0.96671571]),\n",
       " 'train_recall_macro': array([1., 1., 1.]),\n",
       " 'test_f1_macro': array([0.95154219, 0.96835475, 0.96655357]),\n",
       " 'train_f1_macro': array([1., 1., 1.])}"
      ]
     },
     "execution_count": 27,
     "metadata": {},
     "output_type": "execute_result"
    }
   ],
   "source": [
    "scoring = ['accuracy', 'precision_macro', 'recall_macro', 'f1_macro']\n",
    "scores = cross_validate(clf, X, y, scoring=scoring, cv=3, return_train_score=True)\n",
    "scores"
   ]
  },
  {
   "cell_type": "code",
   "execution_count": 28,
   "metadata": {
    "scrolled": true
   },
   "outputs": [
    {
     "name": "stdout",
     "output_type": "stream",
     "text": [
      "fit_time: 0.25\n",
      "score_time: 0.2\n",
      "test_accuracy: 0.96\n",
      "train_accuracy: 1.0\n",
      "test_precision_macro: 0.97\n",
      "train_precision_macro: 1.0\n",
      "test_recall_macro: 0.96\n",
      "train_recall_macro: 1.0\n",
      "test_f1_macro: 0.96\n",
      "train_f1_macro: 1.0\n"
     ]
    }
   ],
   "source": [
    "for score in scores:\n",
    "    score_tot = scores[score].mean()\n",
    "    print('{}: {}'.format(score, round(score_tot, 2)))"
   ]
  },
  {
   "cell_type": "markdown",
   "metadata": {},
   "source": [
    "#### Comparando classificadores"
   ]
  },
  {
   "cell_type": "markdown",
   "metadata": {},
   "source": [
    "Tornando a comparação justa:"
   ]
  },
  {
   "cell_type": "code",
   "execution_count": 29,
   "metadata": {},
   "outputs": [],
   "source": [
    "models = {\n",
    "    'SVM': SVC(gamma='scale'),\n",
    "    'NB': GaussianNB()\n",
    "    }"
   ]
  },
  {
   "cell_type": "code",
   "execution_count": 30,
   "metadata": {},
   "outputs": [
    {
     "name": "stdout",
     "output_type": "stream",
     "text": [
      "SVM: 95.82637729549249%\n",
      "NB: 81.19087367835282%\n"
     ]
    }
   ],
   "source": [
    "kfold = KFold(n_splits=3, shuffle=False)\n",
    "\n",
    "for model in models:    \n",
    "    cv_scores = cross_val_score(models[model], X, y, cv=kfold)\n",
    "    print(model + ': ' + str(cv_scores.mean()*100) + '%')"
   ]
  },
  {
   "cell_type": "code",
   "execution_count": 31,
   "metadata": {},
   "outputs": [
    {
     "name": "stdout",
     "output_type": "stream",
     "text": [
      "SVM: 96.16298444742291%\n",
      "NB: 81.86003803550138%\n"
     ]
    }
   ],
   "source": [
    "kfold = StratifiedKFold(n_splits=3, shuffle=False)\n",
    "\n",
    "for model in models:    \n",
    "    cv_scores = cross_val_score(models[model], X, y, cv=kfold)\n",
    "    print(model + ': ' + str(cv_scores.mean()*100) + '%')"
   ]
  },
  {
   "cell_type": "markdown",
   "metadata": {},
   "source": [
    "Pondo em prática:"
   ]
  },
  {
   "cell_type": "code",
   "execution_count": 32,
   "metadata": {},
   "outputs": [
    {
     "data": {
      "text/plain": [
       "[('LR',\n",
       "  LogisticRegression(C=1.0, class_weight=None, dual=False, fit_intercept=True,\n",
       "            intercept_scaling=1, max_iter=10000, multi_class='auto',\n",
       "            n_jobs=None, penalty='l2', random_state=None, solver='lbfgs',\n",
       "            tol=0.0001, verbose=0, warm_start=False)),\n",
       " ('KNN',\n",
       "  KNeighborsClassifier(algorithm='auto', leaf_size=30, metric='minkowski',\n",
       "             metric_params=None, n_jobs=None, n_neighbors=5, p=2,\n",
       "             weights='uniform')),\n",
       " ('CART',\n",
       "  DecisionTreeClassifier(class_weight=None, criterion='gini', max_depth=None,\n",
       "              max_features=None, max_leaf_nodes=None,\n",
       "              min_impurity_decrease=0.0, min_impurity_split=None,\n",
       "              min_samples_leaf=1, min_samples_split=2,\n",
       "              min_weight_fraction_leaf=0.0, presort=False, random_state=None,\n",
       "              splitter='best')),\n",
       " ('NB', GaussianNB(priors=None, var_smoothing=1e-09)),\n",
       " ('SVM', SVC(C=1.0, cache_size=200, class_weight=None, coef0=0.0,\n",
       "    decision_function_shape='ovr', degree=3, gamma='auto', kernel='rbf',\n",
       "    max_iter=-1, probability=False, random_state=None, shrinking=True,\n",
       "    tol=0.001, verbose=False)),\n",
       " ('RF',\n",
       "  RandomForestClassifier(bootstrap=True, class_weight=None, criterion='gini',\n",
       "              max_depth=None, max_features='auto', max_leaf_nodes=None,\n",
       "              min_impurity_decrease=0.0, min_impurity_split=None,\n",
       "              min_samples_leaf=1, min_samples_split=2,\n",
       "              min_weight_fraction_leaf=0.0, n_estimators=10, n_jobs=None,\n",
       "              oob_score=False, random_state=None, verbose=0,\n",
       "              warm_start=False)),\n",
       " ('ADA', AdaBoostClassifier(algorithm='SAMME.R', base_estimator=None,\n",
       "            learning_rate=1.0, n_estimators=50, random_state=None)),\n",
       " ('GradB', GradientBoostingClassifier(criterion='friedman_mse', init=None,\n",
       "                learning_rate=0.1, loss='deviance', max_depth=3,\n",
       "                max_features=None, max_leaf_nodes=None,\n",
       "                min_impurity_decrease=0.0, min_impurity_split=None,\n",
       "                min_samples_leaf=1, min_samples_split=2,\n",
       "                min_weight_fraction_leaf=0.0, n_estimators=100,\n",
       "                n_iter_no_change=None, presort='auto', random_state=None,\n",
       "                subsample=1.0, tol=0.0001, validation_fraction=0.1,\n",
       "                verbose=0, warm_start=False))]"
      ]
     },
     "execution_count": 32,
     "metadata": {},
     "output_type": "execute_result"
    }
   ],
   "source": [
    "# prepare models\n",
    "models = []\n",
    "models.append(('LR', LogisticRegression(solver='lbfgs',multi_class='auto',max_iter=10000)))\n",
    "models.append(('KNN', KNN()))\n",
    "models.append(('CART', DecisionTree())) # Classification And Regression Tree\n",
    "models.append(('NB', GaussianNB()))\n",
    "models.append(('SVM', SVC(gamma='auto')))\n",
    "models.append(('RF', RandomForest(n_estimators=10)))\n",
    "models.append(('ADA', AdaBoost()))\n",
    "models.append(('GradB', GradientBoosting()))\n",
    "models"
   ]
  },
  {
   "cell_type": "code",
   "execution_count": 33,
   "metadata": {},
   "outputs": [
    {
     "name": "stdout",
     "output_type": "stream",
     "text": [
      "LR: 0.930466 (0.029047)\n",
      "KNN: 0.973948 (0.016550)\n",
      "CART: 0.826996 (0.030248)\n",
      "NB: 0.810354 (0.056655)\n",
      "SVM: 0.487052 (0.069361)\n",
      "RF: 0.926109 (0.030566)\n",
      "ADA: 0.269767 (0.036967)\n",
      "GradB: 0.934359 (0.031626)\n"
     ]
    }
   ],
   "source": [
    "# evaluate each model\n",
    "results = []\n",
    "names = []\n",
    "kfold = StratifiedKFold(n_splits=10)\n",
    "for name, model in models:    \n",
    "    cv_results = cross_validate(model, X, y, cv=kfold, scoring='accuracy', return_train_score=False)\n",
    "    results.append(cv_results)\n",
    "    names.append(name)\n",
    "    msg = \"%s: %f (%f)\" % (name, cv_results['test_score'].mean(), cv_results['test_score'].std())\n",
    "    print(msg)"
   ]
  },
  {
   "cell_type": "code",
   "execution_count": 34,
   "metadata": {
    "scrolled": true
   },
   "outputs": [
    {
     "data": {
      "image/png": "[encoded data removed]",
      "text/plain": [
       "<Figure size 432x288 with 1 Axes>"
      ]
     },
     "metadata": {
      "needs_background": "light"
     },
     "output_type": "display_data"
    }
   ],
   "source": [
    "# boxplot algorithm comparison\n",
    "fig = plt.figure()\n",
    "fig.suptitle('Algorithm Comparison - Scores')\n",
    "ax = fig.add_subplot(111)\n",
    "score_results = [result['test_score'] for result in results]\n",
    "plt.boxplot(score_results)\n",
    "ax.set_xticklabels(names)\n",
    "plt.show()"
   ]
  },
  {
   "cell_type": "code",
   "execution_count": 35,
   "metadata": {},
   "outputs": [
    {
     "data": {
      "image/png": "[encoded data removed]",
      "text/plain": [
       "<Figure size 432x288 with 1 Axes>"
      ]
     },
     "metadata": {
      "needs_background": "light"
     },
     "output_type": "display_data"
    }
   ],
   "source": [
    "# boxplot algorithm comparison\n",
    "fig = plt.figure()\n",
    "fig.suptitle('Algorithm Comparison - Fit Time')\n",
    "ax = fig.add_subplot(111)\n",
    "score_results = [result['fit_time'] for result in results]\n",
    "plt.boxplot(score_results)\n",
    "ax.set_xticklabels(names)\n",
    "plt.show()"
   ]
  },
  {
   "cell_type": "code",
   "execution_count": 36,
   "metadata": {},
   "outputs": [
    {
     "data": {
      "image/png": "[encoded data removed]",
      "text/plain": [
       "<Figure size 432x288 with 1 Axes>"
      ]
     },
     "metadata": {
      "needs_background": "light"
     },
     "output_type": "display_data"
    }
   ],
   "source": [
    "# boxplot algorithm comparison\n",
    "fig = plt.figure()\n",
    "fig.suptitle('Algorithm Comparison - Score Time')\n",
    "ax = fig.add_subplot(111)\n",
    "score_results = [result['score_time'] for result in results]\n",
    "plt.boxplot(score_results)\n",
    "ax.set_xticklabels(names)\n",
    "plt.show()"
   ]
  },
  {
   "cell_type": "markdown",
   "metadata": {},
   "source": [
    "---\n",
    "\n",
    "### Para saber mais...\n",
    "\n",
    "Dataset:\n",
    "https://scikit-learn.org/stable/modules/generated/sklearn.datasets.load_digits.html#sklearn.datasets.load_digits\n",
    "\n",
    "Outros datasets para treinar:\n",
    "https://scikit-learn.org/stable/datasets/index.html\n",
    "\n",
    "Cross-validation:\n",
    "- https://towardsdatascience.com/train-test-split-and-cross-validation-in-python-80b61beca4b6\n",
    "- https://scikit-learn.org/stable/modules/cross_validation.html#cross-validation\n",
    "\n",
    "Métricas de Avaliação: https://scikit-learn.org/stable/modules/model_evaluation.html#scoring-parameter\n",
    "\n",
    "Tutoriais que usei de base para esta lição:\n",
    "- https://scikit-learn.org/stable/auto_examples/classification/plot_digits_classification.html#sphx-glr-auto-examples-classification-plot-digits-classification-py\n",
    "- https://machinelearningmastery.com/compare-machine-learning-algorithms-python-scikit-learn/"
   ]
  },
  {
   "cell_type": "markdown",
   "metadata": {},
   "source": [
    "### Dicas para execução\n",
    "\n",
    "Uma forma bem simples de executar este Notebook é usando o Google Colab: https://colab.research.google.com/\n",
    "\n",
    "Se for utilizar sua máquina, lembre de intalar o Python 3 (eu usei o 3.7) e as dependências:\n",
    "- NumPy\n",
    "- Scikit-learn\n",
    "- Jupyter Notebook\n",
    "- Matplotlib\n",
    "\n",
    "Sugiro instalar tanto o python quanto as dependências via [Anaconda](https://www.anaconda.com/distribution/#download-section) (ou [MiniConda](https://conda.io/en/latest/miniconda.html)) criando um Environment."
   ]
  }
 ],
 "metadata": {
  "kernelspec": {
   "display_name": "Python 3",
   "language": "python",
   "name": "python3"
  },
  "language_info": {
   "codemirror_mode": {
    "name": "ipython",
    "version": 3
   },
   "file_extension": ".py",
   "mimetype": "text/x-python",
   "name": "python",
   "nbconvert_exporter": "python",
   "pygments_lexer": "ipython3",
   "version": "3.7.2"
  }
 },
 "nbformat": 4,
 "nbformat_minor": 1
}
